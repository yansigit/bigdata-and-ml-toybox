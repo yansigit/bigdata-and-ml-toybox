{
 "cells": [
  {
   "cell_type": "code",
   "execution_count": null,
   "metadata": {},
   "outputs": [],
   "source": [
    "# 상태를 나타내는 클래스\n",
    "class State:\n",
    "  def __init__(self, board, goal, moves=0):\n",
    "    self.board = board\n",
    "    self.moves = moves\n",
    "    self.goal = goal\n",
    "\n",
    "  # i1과 i2를 교환하여서 새로운 상태를 반환한다. \n",
    "  def get_new_board(self, i1, i2, moves):\n",
    "    new_board = self.board[:]\n",
    "    new_board[i1], new_board[i2] = new_board[i2], new_board[i1]\n",
    "    return State(new_board, self.goal, moves)\n",
    "\n",
    "  # 자식 노드를 확장하여서 리스트에 저장하여서 반환한다. \n",
    "  def expand(self, moves):\n",
    "    result = []\n",
    "    i = self.board.index(0)\t\t# 숫자 0(빈칸)의 위치를 찾는다. \n",
    "    if not i in [0, 1, 2] :\t\t# UP 연산자 \n",
    "      result.append(self.get_new_board(i, i-3, moves))\n",
    "    if not i in [0, 3, 6] :\t\t# LEFT 연산자 \n",
    "      result.append(self.get_new_board(i, i-1, moves))\n",
    "    if not i in [2, 5, 8]:\t\t# DOWN 연산자 \n",
    "      result.append(self.get_new_board(i, i+1, moves))\n",
    "    if not i in [6, 7, 8]:\t\t# RIGHT 연산자 \n",
    "      result.append(self.get_new_board(i, i+3, moves))\n",
    "    return result\n",
    "\n",
    "  # 객체를 출력할 때 사용한다. \n",
    "  def __str__(self):\n",
    "    return str(self.board[:3]) +\"\\n\"+\\\n",
    "            str(self.board[3:6]) +\"\\n\"+\\\n",
    "            str(self.board[6:]) +\"\\n\"+\\\n",
    "            \"------------------\""
   ]
  },
  {
   "cell_type": "code",
   "execution_count": null,
   "metadata": {},
   "outputs": [],
   "source": [
    "def compare(state, queue):\n",
    "    state = state.board\n",
    "    for elem in queue:\n",
    "        if state==elem.board:\n",
    "            return True\n",
    "    return False"
   ]
  },
  {
   "cell_type": "code",
   "execution_count": null,
   "metadata": {},
   "outputs": [],
   "source": [
    "import pdb"
   ]
  },
  {
   "cell_type": "code",
   "execution_count": null,
   "metadata": {},
   "outputs": [],
   "source": [
    "# 초기 상태\n",
    "puzzle = [2, 8, 3, \n",
    "          1, 6, 4, \n",
    "          7, 0, 5]\n",
    "\n",
    "# 목표 상태\n",
    "goal = [1, 2, 3, \n",
    "        8, 0, 4, \n",
    "        7, 6, 5]"
   ]
  },
  {
   "cell_type": "code",
   "execution_count": null,
   "metadata": {},
   "outputs": [],
   "source": [
    "# 초기 상태\n",
    "puzzle = [1, 2, 3, \n",
    "          0, 4, 6, \n",
    "          7, 5, 8]\n",
    "\n",
    "# 목표 상태\n",
    "goal = [1, 2, 3, \n",
    "        4, 5, 6, \n",
    "        7, 8, 0]"
   ]
  },
  {
   "cell_type": "code",
   "execution_count": null,
   "metadata": {},
   "outputs": [],
   "source": [
    "# open 리스트\n",
    "open_queue = [ ]\n",
    "open_queue.append(State(puzzle, goal))\n",
    "print(open_queue[0])\n",
    "\n",
    "closed_queue = [ ]\n",
    "moves = 0"
   ]
  },
  {
   "cell_type": "code",
   "execution_count": null,
   "metadata": {},
   "outputs": [],
   "source": [
    "while len(open_queue) != 0: \n",
    "\n",
    "  current = open_queue.pop(0)\t\t\t# OPEN 리스트의 앞에서 삭제\n",
    "  print(moves)\n",
    "  print(current)\n",
    "  if current.board == goal:\n",
    "      print(\"탐색 성공\")\n",
    "      break\n",
    "  moves = current.moves+1\n",
    "    \n",
    "  closed_queue.append(current)\t\t\n",
    "  for state in current.expand(moves):\n",
    "      if compare(state, closed_queue) or compare(state, open_queue):\t# 이미 거쳐간 노드이면\n",
    "          continue\t\t\t\t# 노드를 버린다.      \n",
    "      else: \n",
    "          #open_queue.insert(0,state)\n",
    "          open_queue.append(state)\t\t# OPEN 리스트의 끝에 추가\n",
    "          #pdb.set_trace()"
   ]
  },
  {
   "cell_type": "code",
   "execution_count": null,
   "metadata": {},
   "outputs": [],
   "source": [
    "!python 8puzzle_BFS.py"
   ]
  },
  {
   "cell_type": "code",
   "execution_count": null,
   "metadata": {},
   "outputs": [],
   "source": [
    "!python 8puzzle_DFS_깊이제한.py"
   ]
  },
  {
   "cell_type": "code",
   "execution_count": null,
   "metadata": {},
   "outputs": [],
   "source": []
  }
 ],
 "metadata": {
  "kernelspec": {
   "display_name": "Python 3",
   "language": "python",
   "name": "python3"
  },
  "language_info": {
   "codemirror_mode": {
    "name": "ipython",
    "version": 3
   },
   "file_extension": ".py",
   "mimetype": "text/x-python",
   "name": "python",
   "nbconvert_exporter": "python",
   "pygments_lexer": "ipython3",
   "version": "3.8.3"
  }
 },
 "nbformat": 4,
 "nbformat_minor": 2
}
