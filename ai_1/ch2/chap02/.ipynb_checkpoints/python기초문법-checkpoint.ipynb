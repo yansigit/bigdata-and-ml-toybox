{
 "cells": [
  {
   "cell_type": "markdown",
   "metadata": {},
   "source": [
    "# Python 기초문법\n",
    "- 변수 개념\n",
    "- comments\n",
    "- 기본자료형 산술연산자\n",
    "- 문자열\n",
    "- 리스트\n",
    "- 조건문, 반복문\n",
    "- 비교연산자/논리연산자\n",
    "- dictionary\n",
    "- file I/O(code변환, JSON, XML)\n",
    "- 함수"
   ]
  },
  {
   "cell_type": "code",
   "execution_count": null,
   "metadata": {},
   "outputs": [],
   "source": [
    "print(\"Hello world!\")"
   ]
  },
  {
   "cell_type": "code",
   "execution_count": null,
   "metadata": {},
   "outputs": [],
   "source": [
    "name = input()\n",
    "print(name)"
   ]
  },
  {
   "cell_type": "code",
   "execution_count": null,
   "metadata": {},
   "outputs": [],
   "source": [
    "name = input(\"이름?: \")"
   ]
  },
  {
   "cell_type": "markdown",
   "metadata": {},
   "source": [
    "# 1. 변수(variable)\n",
    "- 변수: 값을 저장할 수 있는 컴퓨터 메모리\n",
    "-![변수_값](../images/그림2-1.png)"
   ]
  },
  {
   "cell_type": "code",
   "execution_count": null,
   "metadata": {},
   "outputs": [],
   "source": [
    "professor = \"Sungchul Choi\"\n",
    "print(professor)"
   ]
  },
  {
   "cell_type": "code",
   "execution_count": null,
   "metadata": {},
   "outputs": [],
   "source": [
    "a=7\n",
    "b=5\n",
    "print(a+b)  # 변수 a와 변수 b 값을 더해서 출력"
   ]
  },
  {
   "cell_type": "code",
   "execution_count": null,
   "metadata": {},
   "outputs": [],
   "source": [
    "print(\"a+b\")  # \"a+b\"는 문자열(string)을 출력"
   ]
  },
  {
   "cell_type": "markdown",
   "metadata": {},
   "source": [
    "# 2. comments(설명문)\n",
    "- 한줄: # Single line comments start with a number symbol.\n",
    "- 여러줄 : \"\"\"\n",
    "\"\"\""
   ]
  },
  {
   "cell_type": "markdown",
   "metadata": {},
   "source": [
    "# 3. 기본 자료형 및 산술연산자\n",
    "![기본자료형](../images/표2-2.png)\n",
    "\n",
    "![산술연산자](../images/산술연산자.png)\n",
    "- 나눗셈 연산 ( /, //, %)\n",
    "- 제곱승 (**)"
   ]
  },
  {
   "cell_type": "code",
   "execution_count": null,
   "metadata": {},
   "outputs": [],
   "source": [
    "3"
   ]
  },
  {
   "cell_type": "code",
   "execution_count": null,
   "metadata": {},
   "outputs": [],
   "source": [
    "1 + 1"
   ]
  },
  {
   "cell_type": "code",
   "execution_count": null,
   "metadata": {},
   "outputs": [],
   "source": [
    "35 / 5"
   ]
  },
  {
   "cell_type": "code",
   "execution_count": null,
   "metadata": {},
   "outputs": [],
   "source": [
    "5 // 2"
   ]
  },
  {
   "cell_type": "code",
   "execution_count": null,
   "metadata": {},
   "outputs": [],
   "source": [
    "7 % 5"
   ]
  },
  {
   "cell_type": "code",
   "execution_count": null,
   "metadata": {},
   "outputs": [],
   "source": [
    "2 ** 4"
   ]
  },
  {
   "cell_type": "code",
   "execution_count": null,
   "metadata": {},
   "outputs": [],
   "source": [
    "# 괄호 () 연산 우선 순위\n",
    "(1 + 3) * 2"
   ]
  },
  {
   "cell_type": "markdown",
   "metadata": {},
   "source": [
    "## 연산자 이해 (연습)"
   ]
  },
  {
   "cell_type": "markdown",
   "metadata": {},
   "source": [
    "```\n",
    "# Math is what you would expect\n",
    "1 + 1  # => 2\n",
    "8 - 1  # => 7\n",
    "10 * 2  # => 20\n",
    "35 / 5  # => 7\n",
    "\n",
    "# Division is a bit tricky. It is integer division and floors the results automatically.\n",
    "5 / 2  # => 2\n",
    "\n",
    "# To fix division we need to learn about floats.\n",
    "2.0  # This is a float\n",
    "11.0 / 4.0  # => 2.75 ahhh...much better\n",
    "\n",
    "# Result of integer division truncated down both for positive and negative.\n",
    "5 // 3  # => 1\n",
    "5.0 // 3.0  # => 1.0 # works on floats too\n",
    "-5 // 3  # => -2\n",
    "-5.0 // 3.0  # => -2.0\n",
    "```"
   ]
  },
  {
   "cell_type": "markdown",
   "metadata": {},
   "source": [
    "## 프로그램 생각하기\n",
    "- 입출력, 연산, 변환 종합( 섭씨 온도 => 화씨 온도 변환)\n",
    "- 섭씨 온도(C) 입력 받음\n",
    "- 화씨온도(F) = 섭씨온도(C) * 9/5 + 32"
   ]
  },
  {
   "cell_type": "markdown",
   "metadata": {},
   "source": [
    "# 4. 문자열(string)\n",
    "- 문자열의 순서있는 집합\n",
    "- 한줄 안의 문자열\n",
    "- 여러 줄에 걸친 문자열"
   ]
  },
  {
   "cell_type": "code",
   "execution_count": null,
   "metadata": {},
   "outputs": [],
   "source": [
    "a = \"\"\" Multiline strings can be written\n",
    "    using three \"s, and are often used\n",
    "    as comments\n",
    "\"\"\""
   ]
  },
  {
   "cell_type": "code",
   "execution_count": null,
   "metadata": {},
   "outputs": [],
   "source": [
    "a"
   ]
  },
  {
   "cell_type": "code",
   "execution_count": null,
   "metadata": {},
   "outputs": [],
   "source": [
    "# dir(): 객체가 가지고 있는 변수나 함수(method)\n",
    "dir(\"a\")"
   ]
  },
  {
   "cell_type": "markdown",
   "metadata": {},
   "source": [
    "## escape 문자 '\\\\'\n",
    "- 시스템을 제어하기 위한 문자(문자의 특수한 의미를 없앰)\n",
    "\n",
    "\n",
    "![escape 문자](../images/escape문자.png)\n"
   ]
  },
  {
   "cell_type": "code",
   "execution_count": null,
   "metadata": {},
   "outputs": [],
   "source": [
    "a = \"It\\'s OK\\nNice shot\"\n",
    "print(a)"
   ]
  },
  {
   "cell_type": "markdown",
   "metadata": {},
   "source": [
    "## 문자열의 연산\n",
    "- +: 문자열 연결\n",
    "- \\*: 문자열 반복"
   ]
  },
  {
   "cell_type": "code",
   "execution_count": 15,
   "metadata": {},
   "outputs": [
    {
     "name": "stdout",
     "output_type": "stream",
     "text": [
      "name1: 옥철영\n",
      "name2: 옥 철영\n"
     ]
    }
   ],
   "source": [
    "first_name = \"철영\"\n",
    "family_name = \"옥\"\n",
    "name1 = family_name + first_name\n",
    "name2 = family_name + \" \" + first_name\n",
    "print(\"name1: {0}\\nname2: {1}\".format(name1, name2))"
   ]
  },
  {
   "cell_type": "code",
   "execution_count": 4,
   "metadata": {},
   "outputs": [
    {
     "data": {
      "text/plain": [
       "'옥옥옥'"
      ]
     },
     "execution_count": 4,
     "metadata": {},
     "output_type": "execute_result"
    }
   ],
   "source": [
    "triple_family_name = family_name * 3\n",
    "triple_family_name"
   ]
  },
  {
   "cell_type": "markdown",
   "metadata": {},
   "source": [
    "## 문자열의 비교\n",
    "- < : 알파벳순서\n",
    "- 'a' < 'b'\n",
    "- 'aa' < 'aa '"
   ]
  },
  {
   "cell_type": "code",
   "execution_count": null,
   "metadata": {},
   "outputs": [],
   "source": [
    "'s' < 'x1'"
   ]
  },
  {
   "cell_type": "markdown",
   "metadata": {},
   "source": [
    "## 문자열의 인덱싱 & slicing\n",
    "![문자열인덱싱](../images/문자열인덱싱.png)"
   ]
  },
  {
   "cell_type": "code",
   "execution_count": 2,
   "metadata": {},
   "outputs": [
    {
     "data": {
      "text/plain": [
       "'e'"
      ]
     },
     "execution_count": 2,
     "metadata": {},
     "output_type": "execute_result"
    }
   ],
   "source": [
    "word = 'Hello'\n",
    "word[1]"
   ]
  },
  {
   "cell_type": "code",
   "execution_count": 3,
   "metadata": {},
   "outputs": [
    {
     "data": {
      "text/plain": [
       "'e'"
      ]
     },
     "execution_count": 3,
     "metadata": {},
     "output_type": "execute_result"
    }
   ],
   "source": [
    "word[-4]"
   ]
  },
  {
   "cell_type": "code",
   "execution_count": 8,
   "metadata": {},
   "outputs": [
    {
     "data": {
      "text/plain": [
       "'el'"
      ]
     },
     "execution_count": 8,
     "metadata": {},
     "output_type": "execute_result"
    }
   ],
   "source": [
    "word[1:3]"
   ]
  },
  {
   "cell_type": "code",
   "execution_count": 11,
   "metadata": {},
   "outputs": [
    {
     "data": {
      "text/plain": [
       "'olleH'"
      ]
     },
     "execution_count": 11,
     "metadata": {},
     "output_type": "execute_result"
    }
   ],
   "source": [
    "word[-1:-6:-1]"
   ]
  },
  {
   "cell_type": "code",
   "execution_count": 9,
   "metadata": {},
   "outputs": [
    {
     "data": {
      "text/plain": [
       "'ol'"
      ]
     },
     "execution_count": 9,
     "metadata": {},
     "output_type": "execute_result"
    }
   ],
   "source": [
    "word[-1:-4:-2]"
   ]
  },
  {
   "cell_type": "code",
   "execution_count": 12,
   "metadata": {},
   "outputs": [
    {
     "ename": "IndexError",
     "evalue": "string index out of range",
     "output_type": "error",
     "traceback": [
      "\u001b[1;31m---------------------------------------------------------------------------\u001b[0m",
      "\u001b[1;31mIndexError\u001b[0m                                Traceback (most recent call last)",
      "\u001b[1;32m<ipython-input-12-bab53c65d0ff>\u001b[0m in \u001b[0;36m<module>\u001b[1;34m\u001b[0m\n\u001b[1;32m----> 1\u001b[1;33m \u001b[0mword\u001b[0m\u001b[1;33m[\u001b[0m\u001b[1;36m5\u001b[0m\u001b[1;33m]\u001b[0m\u001b[1;33m\u001b[0m\u001b[0m\n\u001b[0m",
      "\u001b[1;31mIndexError\u001b[0m: string index out of range"
     ]
    }
   ],
   "source": [
    "word[5]"
   ]
  },
  {
   "cell_type": "markdown",
   "metadata": {},
   "source": [
    "## 프로그램 생각하기 <acronym 만들기>\n",
    "- 사용자에게 단어 3개를 입력받아서 약자(acronym: 몇 개 단어의 머리글자로 된 말)를 만들어 보자\n",
    "- 입력단어1: \"Original\"\n",
    "- 입력단어2: \"Sound\"\n",
    "- 입력단어3: \"Track\"\n",
    "- 약자 : \"OST\""
   ]
  },
  {
   "cell_type": "markdown",
   "metadata": {},
   "source": [
    "## 문자열 함수\n",
    "![문자열 함수](../images/표6-1-1.png)\n",
    "![문자열 함수](../images/표6-1-2.png)"
   ]
  },
  {
   "cell_type": "code",
   "execution_count": null,
   "metadata": {},
   "outputs": [],
   "source": [
    "# 문자 개수 세기(count)\n",
    "a = \"hobby\"\n",
    "a.count('b')  # => 2\n",
    "\n",
    "# 위치 알려주기1(ﬁnd)\n",
    "a = \"Python is the best choice\"\n",
    "a.find('b')   # => 14\n",
    "a.find('k')   # => -1\n",
    "\n",
    "# 위치 알려주기2(index)\n",
    "a = \"Life is too short\"\n",
    "a.index('t')  # => 8\n",
    "a.index('k')  # => error\n",
    "\n",
    "# 문자열 삽입(join)\n",
    "a= \",\"\n",
    "a.join('abcd')   # => 'a,b,c,d'\n",
    "\n",
    "# 소문자를 대문자로 바꾸기(upper)\n",
    "a = \"hi\"\n",
    "a.upper()  # => 'HI'\n",
    "\n",
    "# 대문자를 소문자로 바꾸기(lower)\n",
    "a = \"HI\"\n",
    "a.lower()  # => 'hi'\n",
    "\n",
    "# 왼쪽 공백 지우기(lstrip)\n",
    "a = \" hi \"\n",
    "a.lstrip()  # => 'hi'\n",
    "\n",
    "# 양쪽 공백 지우기(strip)\n",
    "a = \"  hi   \"\n",
    "a.strip()   # => 'hi'\n",
    "\n",
    "# 문자열 바꾸기(replace)\n",
    "a = \"Life is too short\"\n",
    "a.replace(\"Life\", \"Your leg\")   # => 'Your leg is too short'\n",
    "\n",
    "# 문자열 나누기(split)\n",
    "a = \"Life is too short\"\n",
    "a.split()   # => ['Life', 'is', 'too', 'short']\n",
    "\n",
    "a = \"a:b:c:d\"\n",
    "a.split(':')   # => ['a', 'b', 'c', 'd']\n"
   ]
  },
  {
   "cell_type": "code",
   "execution_count": 14,
   "metadata": {},
   "outputs": [
    {
     "data": {
      "text/plain": [
       "['a', 'b', 'c', 'd']"
      ]
     },
     "execution_count": 14,
     "metadata": {},
     "output_type": "execute_result"
    }
   ],
   "source": [
    "a = \"a:b:c:d\"\n",
    "a.split(':')   # => ['a', 'b', 'c', 'd']"
   ]
  },
  {
   "cell_type": "markdown",
   "metadata": {},
   "source": [
    "## 프로그램 생각하기 <단어 count>\n",
    "- '이 사건을 수사한 경기남부지방경찰청은 조 전 코치를 아동·청소년의 성 보호에 관한 법률 위반 등 혐의로 오는 7일 기소의견으로 검찰에 송치한다고 6일 밝혔다.' 의 단어수 count\n",
    "- '로'는 몇 번 출현?\n",
    "```\n",
    "a= '이 사건을 수사한 경기남부지방경찰청은 조 전 코치를 아동·청소년의 성 보호에 관한 법률 위반 등 혐의로 오는 7일 기소의견으로 검찰에 송치한다고 6일 밝혔다.'\n",
    "num_of_words = a.count('')+1\n",
    "num_of_Ro = a.count('로')\n",
    "```\n",
    "\n",
    "- 홍길동 씨의 주민등록번호는 881120-1068234이다. 홍길동씨의 주민등록번호를 연월일(YYYYMMDD) 부분과 그 뒤의 숫자 부분으로 나누어 출력"
   ]
  },
  {
   "cell_type": "markdown",
   "metadata": {},
   "source": [
    "## 문자열 서식 지정(formatting)\n",
    "- 어떤 형식에 맞추어 결과를 출력(엑셀에서 통화 단위, 세 자리 숫자 단위 띄어쓰기, % 출력)\n",
    "\n",
    "### 1) % 서식 사용\n",
    "![서식](../images/표6-3서식.png)"
   ]
  },
  {
   "cell_type": "code",
   "execution_count": null,
   "metadata": {},
   "outputs": [],
   "source": [
    "number = 3\n",
    "\"I eat %d apples.\" % number"
   ]
  },
  {
   "cell_type": "code",
   "execution_count": null,
   "metadata": {},
   "outputs": [],
   "source": [
    "print(\"I eat %s apples.\" % \"five\")"
   ]
  },
  {
   "cell_type": "code",
   "execution_count": null,
   "metadata": {},
   "outputs": [],
   "source": [
    "number = 10\n",
    "day = \"three\"\n",
    "print(\"I ate %d apples. so I was sick for %s days.\" % (number, day))"
   ]
  },
  {
   "cell_type": "markdown",
   "metadata": {},
   "source": [
    "## % 서식 출력 연습\n",
    "```\n",
    "\"Error is %d%.\" % 98  # => error\n",
    "\"Error is %d%%.\" % 98   # => 'Error is 98%.'\n",
    "\"%10s\" % \"hi\"   # => '        hi'\n",
    "\"%-10sjane.\" % 'hi'   # => 'hi        jane.'\n",
    "\"%0.4f\" % 3.42134234   # => '3.4213'\n",
    "\"%10.4f\" % 3.42134234  # => '    3.4213'  전체 10칸 중 소숫점 이하 4자리 차지\n",
    "```"
   ]
  },
  {
   "cell_type": "markdown",
   "metadata": {},
   "source": [
    " ## 2) format 사용 \n",
    " - {인수순서번호}.format(인수)"
   ]
  },
  {
   "cell_type": "code",
   "execution_count": null,
   "metadata": {},
   "outputs": [],
   "source": [
    "print(\"I eat {0} apples\".format(\"five\"))"
   ]
  },
  {
   "cell_type": "code",
   "execution_count": null,
   "metadata": {},
   "outputs": [],
   "source": [
    "number = 10\n",
    "day = \"three\"\n",
    "\"I ate {0} apples. so I was sick for {1} days.\".format(number, day)"
   ]
  },
  {
   "cell_type": "code",
   "execution_count": null,
   "metadata": {},
   "outputs": [],
   "source": [
    " \"I ate {number} apples. so I was sick for {day} days.\".format(number=10, day=3)"
   ]
  },
  {
   "cell_type": "markdown",
   "metadata": {},
   "source": [
    "## format 연습\n",
    "```\n",
    "\"{0:<10}\".format(\"hi\")   # => 'hi        '\n",
    "\"{0:>10}\".format(\"hi\")   # => '        hi'\n",
    "\"{0:^10}\".format(\"hi\")   # => '    hi    '\n",
    "\"{0:=^10}\".format(\"hi\")  # => '====hi===='\n",
    "\"{0:0.4f}\".format(3.141592)   # => '3.1416'\n",
    "\"{0:0.4f}\".format(3.141592)   # => '    3.1416'\n",
    "```"
   ]
  },
  {
   "cell_type": "code",
   "execution_count": 17,
   "metadata": {},
   "outputs": [
    {
     "data": {
      "text/plain": [
       "'    3.1416'"
      ]
     },
     "execution_count": 17,
     "metadata": {},
     "output_type": "execute_result"
    }
   ],
   "source": [
    "\"{0:10.4f}\".format(3.141592)"
   ]
  },
  {
   "cell_type": "markdown",
   "metadata": {},
   "source": [
    "# 5. 자료형 변환\n",
    "- 정수형 <-> 실수형 : int, float\n",
    "- 숫자형 <-> 문자형 : str\n",
    "- 자료형 확인 : type"
   ]
  },
  {
   "cell_type": "code",
   "execution_count": null,
   "metadata": {},
   "outputs": [],
   "source": [
    "a = 10\n",
    "print(a)"
   ]
  },
  {
   "cell_type": "code",
   "execution_count": null,
   "metadata": {},
   "outputs": [],
   "source": [
    "b = float(a)\n",
    "print(b)"
   ]
  },
  {
   "cell_type": "code",
   "execution_count": null,
   "metadata": {},
   "outputs": [],
   "source": [
    "print(10/3)\n",
    "print(int(10/3))"
   ]
  },
  {
   "cell_type": "code",
   "execution_count": null,
   "metadata": {},
   "outputs": [],
   "source": [
    "aa = '75.5'\n",
    "bb = float(aa)\n",
    "cc = int(bb)\n",
    "print(aa, bb, cc)"
   ]
  },
  {
   "cell_type": "code",
   "execution_count": null,
   "metadata": {},
   "outputs": [],
   "source": [
    "dd = str(cc)\n",
    "ee = str(bb)\n",
    "dd"
   ]
  },
  {
   "cell_type": "code",
   "execution_count": null,
   "metadata": {},
   "outputs": [],
   "source": [
    "type(ee)"
   ]
  },
  {
   "cell_type": "code",
   "execution_count": null,
   "metadata": {},
   "outputs": [],
   "source": [
    "celsius = float(input(\"섭씨온도를 입력하세요: \"))\n",
    "fahrenheit = float(celsius) * 9/5 + 32\n",
    "print(fahrenheit)"
   ]
  },
  {
   "cell_type": "markdown",
   "metadata": {},
   "source": [
    "# 6. List\n",
    "- 하나의 변수에 여러 개의 데이터(다양한 자료형)를 저장하는 자료형\n",
    "- 리스트에 저장된 자료들은 순서가 있음 => **sequence data**\n",
    "\n",
    "![리스트](../images/그림3-3.png)"
   ]
  },
  {
   "cell_type": "markdown",
   "metadata": {},
   "source": [
    "## indexing\n",
    "![리스트](../images/그림3-4.png)"
   ]
  },
  {
   "cell_type": "code",
   "execution_count": 19,
   "metadata": {},
   "outputs": [
    {
     "name": "stdout",
     "output_type": "stream",
     "text": [
      "red\n"
     ]
    },
    {
     "ename": "IndexError",
     "evalue": "list index out of range",
     "output_type": "error",
     "traceback": [
      "\u001b[1;31m---------------------------------------------------------------------------\u001b[0m",
      "\u001b[1;31mIndexError\u001b[0m                                Traceback (most recent call last)",
      "\u001b[1;32m<ipython-input-19-b8a5fa02ee35>\u001b[0m in \u001b[0;36m<module>\u001b[1;34m\u001b[0m\n\u001b[0;32m      1\u001b[0m \u001b[0mcolors\u001b[0m \u001b[1;33m=\u001b[0m \u001b[1;33m[\u001b[0m\u001b[1;34m'red'\u001b[0m\u001b[1;33m,\u001b[0m \u001b[1;34m'blue'\u001b[0m\u001b[1;33m,\u001b[0m \u001b[1;34m'green'\u001b[0m\u001b[1;33m]\u001b[0m\u001b[1;33m\u001b[0m\u001b[0m\n\u001b[0;32m      2\u001b[0m \u001b[0mprint\u001b[0m\u001b[1;33m(\u001b[0m\u001b[0mcolors\u001b[0m\u001b[1;33m[\u001b[0m\u001b[1;36m0\u001b[0m\u001b[1;33m]\u001b[0m\u001b[1;33m)\u001b[0m\u001b[1;33m\u001b[0m\u001b[0m\n\u001b[1;32m----> 3\u001b[1;33m \u001b[0mprint\u001b[0m\u001b[1;33m(\u001b[0m\u001b[0mcolors\u001b[0m\u001b[1;33m[\u001b[0m\u001b[1;36m3\u001b[0m\u001b[1;33m]\u001b[0m\u001b[1;33m)\u001b[0m\u001b[1;33m\u001b[0m\u001b[0m\n\u001b[0m\u001b[0;32m      4\u001b[0m \u001b[0mprint\u001b[0m\u001b[1;33m(\u001b[0m\u001b[0mlen\u001b[0m\u001b[1;33m(\u001b[0m\u001b[0mcolors\u001b[0m\u001b[1;33m)\u001b[0m\u001b[1;33m)\u001b[0m  \u001b[1;31m# 리스트/문자열의 길이\u001b[0m\u001b[1;33m\u001b[0m\u001b[0m\n",
      "\u001b[1;31mIndexError\u001b[0m: list index out of range"
     ]
    }
   ],
   "source": [
    "colors = ['red', 'blue', 'green']\n",
    "print(colors[0])\n",
    "print(colors[3])\n",
    "print(len(colors))  # 리스트/문자열의 길이"
   ]
  },
  {
   "cell_type": "code",
   "execution_count": null,
   "metadata": {},
   "outputs": [],
   "source": [
    "name = \"옥철영\"\n",
    "print(len(name))\n",
    "print(name[1])"
   ]
  },
  {
   "cell_type": "markdown",
   "metadata": {},
   "source": [
    "## slicing\n",
    "- sequence data 중 일부분 잘라내어 반환함\n",
    "- cities = ['서울', '부산','인천','대구','대전','광주','울산', '수원']\n",
    "- ![slicing](../images/slicing.png)\n",
    "\n",
    "\n",
    "- ![reverse_index](../images/reverse_indexing.png)\n",
    "\n",
    "\n",
    "- **리스트[시작인덱스:마지막인덱스]  => 시작인덱스부터 마지막인덱스-1 까지**"
   ]
  },
  {
   "cell_type": "code",
   "execution_count": 20,
   "metadata": {},
   "outputs": [
    {
     "data": {
      "text/plain": [
       "['서울', '부산', '인천', '대구']"
      ]
     },
     "execution_count": 20,
     "metadata": {},
     "output_type": "execute_result"
    }
   ],
   "source": [
    "cities = ['서울', '부산','인천','대구','대전','광주','울산', '수원']\n",
    "cities[0:4]"
   ]
  },
  {
   "cell_type": "code",
   "execution_count": 21,
   "metadata": {},
   "outputs": [
    {
     "data": {
      "text/plain": [
       "['대구', '대전', '광주', '울산', '수원']"
      ]
     },
     "execution_count": 21,
     "metadata": {},
     "output_type": "execute_result"
    }
   ],
   "source": [
    "cities[-5:]"
   ]
  },
  {
   "cell_type": "code",
   "execution_count": 22,
   "metadata": {},
   "outputs": [
    {
     "data": {
      "text/plain": [
       "['서울', '부산', '인천', '대구', '대전', '광주', '울산', '수원']"
      ]
     },
     "execution_count": 22,
     "metadata": {},
     "output_type": "execute_result"
    }
   ],
   "source": [
    "cities[:]"
   ]
  },
  {
   "cell_type": "code",
   "execution_count": 23,
   "metadata": {},
   "outputs": [
    {
     "data": {
      "text/plain": [
       "['서울', '부산', '인천', '대구', '대전', '광주', '울산', '수원']"
      ]
     },
     "execution_count": 23,
     "metadata": {},
     "output_type": "execute_result"
    }
   ],
   "source": [
    "cities[-10:10]"
   ]
  },
  {
   "cell_type": "markdown",
   "metadata": {},
   "source": [
    "## 리스트[시작인덱스:마지막인덱스:증가값]\n",
    "- 시작인덱스부터 마지막인덱스-1 까지 증가값만큼씩 건너뜀"
   ]
  },
  {
   "cell_type": "code",
   "execution_count": null,
   "metadata": {},
   "outputs": [],
   "source": [
    "cities[::2]"
   ]
  },
  {
   "cell_type": "code",
   "execution_count": null,
   "metadata": {},
   "outputs": [],
   "source": [
    "cities[::-1]"
   ]
  },
  {
   "cell_type": "markdown",
   "metadata": {},
   "source": [
    "## 리스트 연산\n",
    "- \\+ : 리스트 이어 붙임(concatnate)\n",
    "- \\* : 리스트 반복(repeat)\n",
    "- in 연산 : 포함 여부를 확인하는 연산으로, 하나의 값이 해당 리스트에 들어 있는지 확인할 수 있다.\n",
    "- 리스트추가 및 삭제\n",
    "\n",
    "![리스트추가삭제연산](../images/표3-1.png)\n"
   ]
  },
  {
   "cell_type": "markdown",
   "metadata": {},
   "source": [
    "## 리스트 연습\n",
    "```\n",
    "# Lists store sequences\n",
    "li = []\n",
    "# You can start with a prefilled list\n",
    "other_li = [4, 5, 6]\n",
    "\n",
    "# Add stuff to the end of a list with append\n",
    "li.append(1)  # li is now [1]\n",
    "li.append(2)  # li is now [1, 2]\n",
    "li.append(4)  # li is now [1, 2, 4]\n",
    "li.append(3)  # li is now [1, 2, 4, 3]\n",
    "\n",
    "# Remove from the end with pop\n",
    "li.pop()  # => 3 and li is now [1, 2, 4]\n",
    "\n",
    "# Let's put it back\n",
    "li.append(3)  # li is now [1, 2, 4, 3] again.\n",
    "\n",
    "# Access a list like you would any array\n",
    "li[0]  # => 1\n",
    "\n",
    "# Assign new values to indexes that have already been initialized with =\n",
    "li[0] = 42\n",
    "li[0]  # => 42\n",
    "li[0] = 1  # Note: setting it back to the original value\n",
    "\n",
    "# Look at the last element\n",
    "li[-1]  # => 3\n",
    "\n",
    "# Looking out of bounds is an IndexError\n",
    "li[4]  # Raises an IndexError\n",
    "\n",
    "# You can look at ranges with slice syntax.\n",
    "# (It's a closed/open range for you mathy types.)\n",
    "li[1:3]  # => [2, 4]\n",
    "# Omit the beginning\n",
    "li[2:]  # => [4, 3]\n",
    "# Omit the end\n",
    "li[:3]  # => [1, 2, 4]\n",
    "# Select every second entry\n",
    "li[::2]  # =>[1, 4]\n",
    "# Reverse a copy of the list\n",
    "li[::-1]  # => [3, 4, 2, 1]\n",
    "# Use any combination of these to make advanced slices\n",
    "# li[start:end:step]\n",
    "\n",
    "# Remove arbitrary elements from a list with \"del\"\n",
    "del li[2]  # li is now [1, 2, 3]\n",
    "\n",
    "4 in li   # => False\n",
    "\n",
    "# You can add lists\n",
    "li + other_li  # => [1, 2, 3, 4, 5, 6]\n",
    "# Note: values for li and for other_li are not modified.\n",
    "\n",
    "# Concatenate lists with \"extend()\"\n",
    "li.extend(other_li)  # Now li is [1, 2, 3, 4, 5, 6]\n",
    "\n",
    "# Remove first occurrence of a value\n",
    "li.remove(2)  # li is now [1, 3, 4, 5, 6]\n",
    "li.remove(2)  # Raises a ValueError as 2 is not in the list\n",
    "\n",
    "# Insert an element at a specific index\n",
    "li.insert(1, 2)  # li is now [1, 2, 3, 4, 5, 6] again\n",
    "\n",
    "# Get the index of the first item found\n",
    "li.index(2)  # => 1\n",
    "li.index(7)  # Raises a ValueError as 7 is not in the list\n",
    "\n",
    "# Check for existence in a list with \"in\"\n",
    "1 in li  # => True\n",
    "\n",
    "# Examine the length with \"len()\"\n",
    "len(li)  # => 6\n",
    "```"
   ]
  },
  {
   "cell_type": "code",
   "execution_count": 17,
   "metadata": {},
   "outputs": [
    {
     "data": {
      "text/plain": [
       "True"
      ]
     },
     "execution_count": 17,
     "metadata": {},
     "output_type": "execute_result"
    }
   ],
   "source": [
    "li = [0, 1, 2, 3]\n",
    "2 in li"
   ]
  },
  {
   "cell_type": "markdown",
   "metadata": {},
   "source": [
    "## 패킹과 언패킹\n",
    "- 패킹(packing): 한 변수에 여러 개의 데이터를 할당하는 것. \n",
    "- 언패킹(unpacking): 한 변수의 데이터를 각각의 변수로 반환하는 것"
   ]
  },
  {
   "cell_type": "code",
   "execution_count": null,
   "metadata": {},
   "outputs": [],
   "source": [
    "t = [1, 2, 3]  # packing\n",
    "a, b, c = t    # unpacking\n",
    "print(t, a, b, c)"
   ]
  },
  {
   "cell_type": "markdown",
   "metadata": {},
   "source": [
    "### 패킹과 언패킹 연습\n",
    "```\n",
    "a, b, c, d, e = t\n",
    "a, b = t \n",
    "```"
   ]
  },
  {
   "cell_type": "markdown",
   "metadata": {},
   "source": [
    "## 2차원 리스트\n",
    "- ![2차원리스트](../images/표3-2.png)"
   ]
  },
  {
   "cell_type": "code",
   "execution_count": 24,
   "metadata": {},
   "outputs": [
    {
     "data": {
      "text/plain": [
       "[[49, 79, 20, 100, 80], [43, 59, 85, 30, 90], [49, 79, 48, 60, 100]]"
      ]
     },
     "execution_count": 24,
     "metadata": {},
     "output_type": "execute_result"
    }
   ],
   "source": [
    "kor_score = [49, 79, 20, 100, 80]\n",
    "math_score = [43, 59, 85, 30, 90]\n",
    "eng_score = [49, 79, 48, 60, 100]\n",
    "score = [kor_score, math_score, eng_score]\n",
    "score"
   ]
  },
  {
   "cell_type": "code",
   "execution_count": 26,
   "metadata": {},
   "outputs": [
    {
     "data": {
      "text/plain": [
       "30"
      ]
     },
     "execution_count": 26,
     "metadata": {},
     "output_type": "execute_result"
    }
   ],
   "source": [
    "score[1][3]   # 국어성적 C"
   ]
  },
  {
   "cell_type": "markdown",
   "metadata": {},
   "source": [
    "# 7. 조건문(conditional statement)\n",
    "- ![스마트폰잠금](../images/그림4-1.png)\n",
    "\n",
    "## if -else문\n",
    "- ![if-else문](../images/if-else문.png)\n"
   ]
  },
  {
   "cell_type": "code",
   "execution_count": null,
   "metadata": {},
   "outputs": [],
   "source": [
    "age = int(input(\"Tell me your age: \"))\n",
    "if age < 30 :\n",
    "    print(\"Welcome to the club.\")\n",
    "else:\n",
    "    print(\"Sorry! You are not allowed in.\")"
   ]
  },
  {
   "cell_type": "markdown",
   "metadata": {},
   "source": [
    "## 조건의 판단\n",
    "## 1) 비교연산자\n",
    "- ![비교연산자](../images/표4-1.png)\n",
    "\n",
    "- 비교연산자 결과: boolean 형(**True, False**)"
   ]
  },
  {
   "cell_type": "markdown",
   "metadata": {},
   "source": [
    "## 2) 논리연산자\n",
    "- ![논리연산자](../images/표4-2.png)"
   ]
  },
  {
   "cell_type": "code",
   "execution_count": null,
   "metadata": {},
   "outputs": [],
   "source": [
    "a = 300\n",
    "b = 300\n",
    "a == b"
   ]
  },
  {
   "cell_type": "code",
   "execution_count": null,
   "metadata": {},
   "outputs": [],
   "source": [
    "(3 > 5) < 10"
   ]
  },
  {
   "cell_type": "markdown",
   "metadata": {},
   "source": [
    "## 비교/논리연산자 연습\n",
    "```\n",
    "# Equality is ==\n",
    "1 == 1  # => True\n",
    "2 == 1  # => False\n",
    "\n",
    "# Inequality is !=\n",
    "1 != 1  # => False\n",
    "2 != 1  # => True\n",
    "\n",
    "# More comparisons\n",
    "1 < 10  # => True\n",
    "1 > 10  # => False\n",
    "2 <= 2  # => True\n",
    "2 >= 2  # => True\n",
    "\n",
    "# Comparisons can be chained!\n",
    "1 < 2 < 3  # => True\n",
    "2 < 3 < 2  # => False\n",
    "\n",
    "# Boolean Operators\n",
    "# Note \"and\" and \"or\" are case-sensitive\n",
    "True and False  # => False\n",
    "False or True  # => True\n",
    "\n",
    "# Note using Bool operators with ints\n",
    "0 and 2  # => 0\n",
    "-5 or 0  # => -5\n",
    "0 == False  # => True\n",
    "2 == True  # => False\n",
    "1 == True  # => True\n",
    "\n",
    "# negate with not\n",
    "not True  # => False\n",
    "not False  # => True\n",
    "\n",
    "# 놀이기구 타는 조건\n",
    "(age>=10) and (height>=165)\n",
    "```"
   ]
  },
  {
   "cell_type": "markdown",
   "metadata": {},
   "source": [
    "## 프로그램 생각하기 <홀수 짝수 구별하기>\n",
    "- 키보드에서 입력받은 정수가 홀수인지 짝수인지를 말해주는 프로그램\n",
    "- 홀수와 짝수는 어떻게 구별할 수 있는가?"
   ]
  },
  {
   "cell_type": "markdown",
   "metadata": {},
   "source": [
    "## 프로그램 생각하기 <윤년 판단>\n",
    "- 연도가 4로 나누어 떨어지면 윤년이다. \n",
    "- 연도가 4로 나누어 떨어지지만 100으로 나누어 떨어지면 윤년이 아님. \n",
    "- 400으로 나누어 떨어지는 연도는 윤년이다.\n",
    "- 프로그램\n",
    "```\n",
    "year = int(input(\"연도를 입력하시오: \"))\n",
    "if ( (year % 4 ==0 and year % 100 != 0) or year % 400 == 0):\n",
    "    print(year, \"년은 윤년입니다.\")\n",
    "else :\n",
    "    print(year, \"년은 윤년이 아닙니다.\")\n",
    "```"
   ]
  },
  {
   "cell_type": "markdown",
   "metadata": {
    "collapsed": true
   },
   "source": [
    "## if-elif-else문\n",
    "-![if-elif-else](../images/if-elif-else.png)"
   ]
  },
  {
   "cell_type": "code",
   "execution_count": null,
   "metadata": {},
   "outputs": [],
   "source": [
    "score = int(input(\"성적을 입력하시오: \"))\n",
    "\n",
    "if score >= 90 :\n",
    "    print(\"학점 A\")\n",
    "elif score >= 80 :\n",
    "    print(\"학점 B\")\n",
    "elif score >= 70 :\n",
    "    print(\"학점 C\")\n",
    "elif score >= 60 :\n",
    "    print(\"학점 D\")\n",
    "else :\n",
    "    print(\"학점 F\");"
   ]
  },
  {
   "cell_type": "markdown",
   "metadata": {},
   "source": [
    "# 8. 반복문\n",
    "- 정해진 동작을 반복적으로 수행할 때 내리는 명령어이다.\n",
    "- 반복문은 반복 시작 조건, 종료 조건, 수행 명령으로 구성되어 있으며, 들여쓰기와 블록(block)으로 구분한다. \n",
    "- for 문 - 정해진 횟수만큼 반복하는 구조이다\n",
    "- while 문 - 어떤 조건이 만족되는 동안, 반복을 계속하는 구조이다."
   ]
  },
  {
   "cell_type": "code",
   "execution_count": null,
   "metadata": {},
   "outputs": [],
   "source": [
    "print(\"환영합니다.\")\n",
    "print(\"환영합니다.\")\n",
    "print(\"환영합니다.\")\n",
    "print(\"환영합니다.\")\n",
    "print(\"환영합니다.\")\n",
    "print(\"환영합니다.\")\n",
    "print(\"환영합니다.\")\n",
    "print(\"환영합니다.\")\n",
    "print(\"환영합니다.\")\n",
    "print(\"환영합니다.\")"
   ]
  },
  {
   "cell_type": "markdown",
   "metadata": {},
   "source": [
    "print(\"환영합니다.\\n\"*10)"
   ]
  },
  {
   "cell_type": "markdown",
   "metadata": {},
   "source": [
    "## 1) for 문\n",
    "- ![for문](../images/for문.png)"
   ]
  },
  {
   "cell_type": "code",
   "execution_count": 29,
   "metadata": {},
   "outputs": [
    {
     "name": "stdout",
     "output_type": "stream",
     "text": [
      "안녕! 철수\n",
      "안녕! 영희\n",
      "안녕! 길동\n",
      "안녕! 유신\n"
     ]
    }
   ],
   "source": [
    "for name in [\"철수\", \"영희\", \"길동\", \"유신\" ]:   \n",
    "    print(\"안녕! \" + name)"
   ]
  },
  {
   "cell_type": "markdown",
   "metadata": {},
   "source": [
    "## 반복문의이해\n",
    "- ![반복문의이해](../images/반복문의이해.png)"
   ]
  },
  {
   "cell_type": "markdown",
   "metadata": {},
   "source": [
    "# Debugging Python code\n",
    "* pdb: Python Debugger 모듈\n",
    "    - Step over/Step into\n",
    "    - 중단점(breakpoint) 설정\n",
    "    - 콜스택 검사\n",
    "    - 소스 리스팅\n",
    "    - 변수 치환\n",
    "* python -m pdb 파이선파일.py\n",
    "* import pdb\n",
    "    - pdb.set_trace(): 중단하고 싶은 위치\n",
    "\n",
    "## pdb 명령어\n",
    "- help: 도움말\n",
    "- next: 다음 문장으로 이동\n",
    "- print: 변수값 화면에 표시\n",
    "- list: 소스코드 리스트 출력. 현재 위치 화살표로 표시됨\n",
    "- where: 콜스택 출력\n",
    "- continue: 계속 실행. 다음 중단점에 멈추거나 중단점 없으면 끝까지 실행\n",
    "- step: Step Into 하여 함수 내부로 들어감\n",
    "- return: 현재 함수의 리턴 직전까지 실행\n",
    "- !변수명 = 값: 변수에 값 재설정\n",
    "\n",
    "## ipython에서의 debug\n",
    "- %debug: 예외가 발생하면 예외가 발생한 정확한 위치로 ipython debugger를 실행\n",
    "- %pdb: debugger는 바로 다음 예외를 자동으로 시작\n",
    "- %run -d -b29 script.py: script.py 파이썬프로그램을 debugger모드로 실행, 첫번째 중단점 29줄\n",
    "- ipdb> prompt\n",
    "\n",
    "## ipdb 명령어\n",
    "- u, d : 호출 스택에서 위/아래로 이동\n",
    "- s : 다음 문 실행\n",
    "- n : 현재 함수에서 다음 행까지 계속 진행\n",
    "- r : 현재 함수가 반환될 때까지 진행\n",
    "- c : 예외나 다음 중단점까지 진행\n",
    "- p : 표현문 실행하고 출력\n",
    "- a : 현재 함수의 argument 출력\n",
    "- !파이썬명령어 : 파이썬명령어 실행 \n",
    "\n",
    "## http://docs.python.org/3.4/library/pdb.html"
   ]
  },
  {
   "cell_type": "code",
   "execution_count": null,
   "metadata": {},
   "outputs": [],
   "source": [
    "import pdb"
   ]
  },
  {
   "cell_type": "code",
   "execution_count": null,
   "metadata": {},
   "outputs": [],
   "source": [
    "for name in [\"철수\", \"영희\", \"길동\", \"유신\" ]: \n",
    "    pdb.set_trace()\n",
    "    print(\"안녕! \" + name)"
   ]
  },
  {
   "cell_type": "code",
   "execution_count": null,
   "metadata": {},
   "outputs": [],
   "source": [
    "for x in [0, 1, 2, 3, 4, 5, 6, 7, 8, 9] :\n",
    "      print(x, end=\" \")"
   ]
  },
  {
   "cell_type": "code",
   "execution_count": null,
   "metadata": {},
   "outputs": [],
   "source": [
    "for c in  \"abcdef\":\n",
    "    print(c, end=\" \")"
   ]
  },
  {
   "cell_type": "markdown",
   "metadata": {},
   "source": [
    "## range() 함수\n",
    "- 특정 구간의 정수들을 생성할 수 있다.\n",
    "- 예를 들어서 range(100)하면 0부터 99까지의 정수가 생성된다. \n",
    "- ![range함수](../images/range함수.png)"
   ]
  },
  {
   "cell_type": "code",
   "execution_count": 32,
   "metadata": {},
   "outputs": [
    {
     "name": "stdout",
     "output_type": "stream",
     "text": [
      "환영합니다.0\n",
      "환영합니다.1\n",
      "환영합니다.2\n",
      "환영합니다.3\n",
      "환영합니다.4\n",
      "환영합니다.5\n",
      "환영합니다.6\n",
      "환영합니다.7\n",
      "환영합니다.8\n",
      "환영합니다.9\n",
      "환영합니다.10\n"
     ]
    }
   ],
   "source": [
    "for x in range(11) :\n",
    "    print(\"환영합니다.\"+ str(x))"
   ]
  },
  {
   "cell_type": "code",
   "execution_count": null,
   "metadata": {},
   "outputs": [],
   "source": [
    "sum = 0\n",
    "for x in range(101) :\n",
    "      sum = sum + x\n",
    "print(sum)"
   ]
  },
  {
   "cell_type": "markdown",
   "metadata": {},
   "source": [
    "## 프로그램 생각하기 <1~100까지 홀수의 합은?>\n",
    "- 1 ~ 100 사이의 홀수는 어떻게 추출할 것인가?"
   ]
  },
  {
   "cell_type": "markdown",
   "metadata": {},
   "source": [
    "## 2) while 문\n",
    "- ![while문](../images/while문.png)"
   ]
  },
  {
   "cell_type": "code",
   "execution_count": null,
   "metadata": {},
   "outputs": [],
   "source": [
    "i = 0;\n",
    "while i < 10 : \n",
    "      print(\"환영합니다.\")\n",
    "      i = i + 1"
   ]
  },
  {
   "cell_type": "markdown",
   "metadata": {},
   "source": [
    "## 3) 반복문의 제어\n",
    "### break : 반복문에서 논리적으로 반복을 종료하는 방법\n",
    "### continue : 특정 조건에서 남은 명령을 건너뛰고 다음 반복문을 수행"
   ]
  },
  {
   "cell_type": "code",
   "execution_count": null,
   "metadata": {},
   "outputs": [],
   "source": [
    "# 1에서 100까지의 합을 구해가다 그 합니 3000이 넘게되는 수\n",
    "sum = 0\n",
    "for x in range(101) :\n",
    "    sum = sum + x\n",
    "    if (sum > 3000):\n",
    "        break\n",
    "print(sum, x)"
   ]
  },
  {
   "cell_type": "code",
   "execution_count": null,
   "metadata": {},
   "outputs": [],
   "source": [
    "sum = 0\n",
    "for x in range(20) :\n",
    "    if x % 3 == 0 :\n",
    "        continue\n",
    "    print(x, end=' ')\n",
    "    sum = sum + x\n",
    "print('\\n')\n",
    "print(sum)"
   ]
  },
  {
   "cell_type": "markdown",
   "metadata": {},
   "source": [
    "## 프로그램 생각하기 <문자열 역순 출력>\n",
    "- 테스트 프로그램 \n",
    "```\n",
    "sentence = 'I love you!\"\n",
    "reverse_sentence = ''\n",
    "for char in sentence:\n",
    "    reverse_sentence = reverse_sentence + char\n",
    "print(reverse_sentence)\n",
    "```\n",
    "- 오류 수정\n",
    "- for 문 안에서 pdb.set_trace() 설정하여 char, reverse_sentence 결과 추적\n",
    "- 어떻게 수정할까?"
   ]
  },
  {
   "cell_type": "markdown",
   "metadata": {},
   "source": [
    "## 프로그램 생각하기 <십진수를 이진수로 변환>\n",
    "- 십진수 10 => 이진수 1010\n",
    "![십진수_이진수변환](../images/십진수_이진수변환.png)\n",
    "- 프로그램\n",
    "```\n",
    "decimal = 10\n",
    "result = ''\n",
    "while (decimal > 0):\n",
    "    remainder = decimal % (?)\n",
    "    decimal = decimal (?) 2\n",
    "    result = str(remainder) + result\n",
    "print(result)\n",
    "```\n",
    "- 위 (?)는 ?"
   ]
  },
  {
   "cell_type": "markdown",
   "metadata": {},
   "source": [
    "# 9. dictionary\n",
    "- 키(key)와 값(value) 형태로 데이터를 저장하는 자료구조\n",
    "![dictionary](../images/dictionary.png)"
   ]
  },
  {
   "cell_type": "code",
   "execution_count": 18,
   "metadata": {},
   "outputs": [
    {
     "data": {
      "text/plain": [
       "{'Kim': '01012345678', 'Park': '01012345679', 'Lee': '01012345680'}"
      ]
     },
     "execution_count": 18,
     "metadata": {},
     "output_type": "execute_result"
    }
   ],
   "source": [
    "contacts = {'Kim':'01012345678',  'Park':'01012345679', 'Lee':'01012345680' }\n",
    "contacts"
   ]
  },
  {
   "cell_type": "code",
   "execution_count": 20,
   "metadata": {},
   "outputs": [
    {
     "data": {
      "text/plain": [
       "'01012345679'"
      ]
     },
     "execution_count": 20,
     "metadata": {},
     "output_type": "execute_result"
    }
   ],
   "source": [
    "contacts['Park']"
   ]
  },
  {
   "cell_type": "code",
   "execution_count": 35,
   "metadata": {},
   "outputs": [
    {
     "data": {
      "text/plain": [
       "['__class__',\n",
       " '__contains__',\n",
       " '__delattr__',\n",
       " '__delitem__',\n",
       " '__dir__',\n",
       " '__doc__',\n",
       " '__eq__',\n",
       " '__format__',\n",
       " '__ge__',\n",
       " '__getattribute__',\n",
       " '__getitem__',\n",
       " '__gt__',\n",
       " '__hash__',\n",
       " '__init__',\n",
       " '__init_subclass__',\n",
       " '__iter__',\n",
       " '__le__',\n",
       " '__len__',\n",
       " '__lt__',\n",
       " '__ne__',\n",
       " '__new__',\n",
       " '__reduce__',\n",
       " '__reduce_ex__',\n",
       " '__repr__',\n",
       " '__setattr__',\n",
       " '__setitem__',\n",
       " '__sizeof__',\n",
       " '__str__',\n",
       " '__subclasshook__',\n",
       " 'clear',\n",
       " 'copy',\n",
       " 'fromkeys',\n",
       " 'get',\n",
       " 'items',\n",
       " 'keys',\n",
       " 'pop',\n",
       " 'popitem',\n",
       " 'setdefault',\n",
       " 'update',\n",
       " 'values']"
      ]
     },
     "execution_count": 35,
     "metadata": {},
     "output_type": "execute_result"
    }
   ],
   "source": [
    "# dictionary 함수/method\n",
    "dir(contacts)"
   ]
  },
  {
   "cell_type": "code",
   "execution_count": 22,
   "metadata": {},
   "outputs": [],
   "source": [
    "a = list()"
   ]
  },
  {
   "cell_type": "code",
   "execution_count": 24,
   "metadata": {},
   "outputs": [
    {
     "data": {
      "text/plain": [
       "['__add__',\n",
       " '__class__',\n",
       " '__contains__',\n",
       " '__delattr__',\n",
       " '__delitem__',\n",
       " '__dir__',\n",
       " '__doc__',\n",
       " '__eq__',\n",
       " '__format__',\n",
       " '__ge__',\n",
       " '__getattribute__',\n",
       " '__getitem__',\n",
       " '__gt__',\n",
       " '__hash__',\n",
       " '__iadd__',\n",
       " '__imul__',\n",
       " '__init__',\n",
       " '__init_subclass__',\n",
       " '__iter__',\n",
       " '__le__',\n",
       " '__len__',\n",
       " '__lt__',\n",
       " '__mul__',\n",
       " '__ne__',\n",
       " '__new__',\n",
       " '__reduce__',\n",
       " '__reduce_ex__',\n",
       " '__repr__',\n",
       " '__reversed__',\n",
       " '__rmul__',\n",
       " '__setattr__',\n",
       " '__setitem__',\n",
       " '__sizeof__',\n",
       " '__str__',\n",
       " '__subclasshook__',\n",
       " 'append',\n",
       " 'clear',\n",
       " 'copy',\n",
       " 'count',\n",
       " 'extend',\n",
       " 'index',\n",
       " 'insert',\n",
       " 'pop',\n",
       " 'remove',\n",
       " 'reverse',\n",
       " 'sort']"
      ]
     },
     "execution_count": 24,
     "metadata": {},
     "output_type": "execute_result"
    }
   ],
   "source": [
    "dir(a)"
   ]
  },
  {
   "cell_type": "code",
   "execution_count": 36,
   "metadata": {},
   "outputs": [
    {
     "data": {
      "text/plain": [
       "'01012345678'"
      ]
     },
     "execution_count": 36,
     "metadata": {},
     "output_type": "execute_result"
    }
   ],
   "source": [
    "contacts.get('Kim')"
   ]
  },
  {
   "cell_type": "code",
   "execution_count": 37,
   "metadata": {},
   "outputs": [
    {
     "name": "stdout",
     "output_type": "stream",
     "text": [
      "키가 딕셔너리에 있음\n"
     ]
    }
   ],
   "source": [
    "if \"Kim\" in contacts:\n",
    "    print(\"키가 딕셔너리에 있음\")\n",
    "else:\n",
    "    print(\"키가 딕셔너리에 없음\")"
   ]
  },
  {
   "cell_type": "code",
   "execution_count": 38,
   "metadata": {},
   "outputs": [
    {
     "data": {
      "text/plain": [
       "{'Kim': '01012345678',\n",
       " 'Park': '01012345679',\n",
       " 'Lee': '01012345680',\n",
       " 'Choi': '01056781234'}"
      ]
     },
     "execution_count": 38,
     "metadata": {},
     "output_type": "execute_result"
    }
   ],
   "source": [
    "contacts['Choi'] = '01056781234'\n",
    "contacts"
   ]
  },
  {
   "cell_type": "code",
   "execution_count": 39,
   "metadata": {},
   "outputs": [
    {
     "name": "stdout",
     "output_type": "stream",
     "text": [
      "01012345678\n",
      "{'Park': '01012345679', 'Lee': '01012345680', 'Choi': '01056781234'}\n"
     ]
    }
   ],
   "source": [
    "phone_Kim = contacts.pop(\"Kim\")\n",
    "print(phone_Kim)\n",
    "print(contacts)"
   ]
  },
  {
   "cell_type": "code",
   "execution_count": null,
   "metadata": {},
   "outputs": [],
   "source": [
    "country_phone_code = { 'America': 1, 'Korea': 82, 'China': 86, \"Japan\": 81}\n",
    "country_phone_code.items()"
   ]
  },
  {
   "cell_type": "code",
   "execution_count": null,
   "metadata": {},
   "outputs": [],
   "source": [
    "country_phone_code.keys()"
   ]
  },
  {
   "cell_type": "code",
   "execution_count": null,
   "metadata": {},
   "outputs": [],
   "source": [
    "for item in country_phone_code.items():\n",
    "    print(item)"
   ]
  },
  {
   "cell_type": "code",
   "execution_count": null,
   "metadata": {},
   "outputs": [],
   "source": [
    "for k, v in country_phone_code.items():\n",
    "    print(\"Key:\", k)\n",
    "    print(\"Value:\", v)"
   ]
  },
  {
   "cell_type": "markdown",
   "metadata": {},
   "source": [
    "## dictionary 연습\n",
    "```\n",
    "# Dictionaries store mappings\n",
    "empty_dict = {}\n",
    "# Here is a prefilled dictionary\n",
    "filled_dict = {\"one\": 1, \"two\": 2, \"three\": 3}\n",
    "\n",
    "# Look up values with []\n",
    "filled_dict[\"one\"]  # => 1\n",
    "\n",
    "# Get all keys as a list with \"keys()\"\n",
    "filled_dict.keys()  # => [\"three\", \"two\", \"one\"]\n",
    "# Note - Dictionary key ordering is not guaranteed.\n",
    "# Your results might not match this exactly.\n",
    "\n",
    "# Get all values as a list with \"values()\"\n",
    "filled_dict.values()  # => [3, 2, 1]\n",
    "# Note - Same as above regarding key ordering.\n",
    "\n",
    "# Get all key-value pairs as a list of tuples with \"items()\"\n",
    "filled_dict.items()  # => [(\"one\", 1), (\"two\", 2), (\"three\", 3)]\n",
    "\n",
    "# Check for existence of keys in a dictionary with \"in\"\n",
    "\"one\" in filled_dict  # => True\n",
    "1 in filled_dict  # => False\n",
    "\n",
    "# Looking up a non-existing key is a KeyError\n",
    "filled_dict[\"four\"]  # KeyError\n",
    "\n",
    "# Use \"get()\" method to avoid the KeyError\n",
    "filled_dict.get(\"one\")  # => 1\n",
    "filled_dict.get(\"four\")  # => None\n",
    "# The get method supports a default argument when the value is missing\n",
    "filled_dict.get(\"one\", 4)  # => 1\n",
    "filled_dict.get(\"four\", 4)  # => 4\n",
    "# note that filled_dict.get(\"four\") is still => None\n",
    "# (get doesn't set the value in the dictionary)\n",
    "\n",
    "# set the value of a key with a syntax similar to lists\n",
    "filled_dict[\"four\"] = 4  # now, filled_dict[\"four\"] => 4\n",
    "\n",
    "# \"setdefault()\" inserts into a dictionary only if the given key isn't present\n",
    "filled_dict.setdefault(\"five\", 5)  # filled_dict[\"five\"] is set to 5\n",
    "filled_dict.setdefault(\"five\", 6)  # filled_dict[\"five\"] is still 5\n",
    "```"
   ]
  },
  {
   "cell_type": "markdown",
   "metadata": {},
   "source": [
    "## 프로그램 생각하기 <10대들이 사용하는 비속어 사전>\n",
    "- 비속어/줄임말/신조어 사전 구축\n",
    "- 비속어/줄임말/신조어 입력하면 뜻풀이 출력\n",
    "\n",
    "```\n",
    "table = { \"갑분싸\": \"갑자기 분위기가 싸함\",\n",
    "          \"고답이\": \"고구마를 먹은 듯 답답하게 행동하는 사람\",\n",
    "          \"괄도 네넴띤\": \"팔도 비빔면\",\n",
    "          \"낄끼빠빠\":\"낄 때 끼고 빠질 때 빠져라\",\n",
    "          \"가싶남\":\"갖고 싶은 남자\",\n",
    "          \"가성비\": \"가격 대비 성능\",\n",
    "          \"가심비\": \"가성비는 물론이고 심리적인 만족감\",\n",
    "          \"남아공\": \"남아서 공부나 해\",\n",
    "          \"따아\": \"따뜻한 아메이카노\",\n",
    "          \"룸곡옾눞\": \"폭풍눈물\",\n",
    "          \"솔까말\": \"솔직히 말해서\",\n",
    "          \"소확행\": \"소소하지만 확실한 행복\",\n",
    "          \"이생망\": \"이번 생은 망했다\"}\n",
    "\n",
    "words = input('번역할 문장을 입력하시오: ')\n",
    "print(table[words])\n",
    "```\n",
    "- 입력문장이 \"가성비가 좋다\"이면 => \"가격 대비 성능\"이 좋다 출력하려면?"
   ]
  },
  {
   "cell_type": "markdown",
   "metadata": {},
   "source": [
    "## 프로그램 생각하기 <단어/음절 count>\n",
    "- 문장(파일)에서 개용된 단어 count\n",
    "\n",
    "```\n",
    "sentence = \"\"\"문자열 자료형은 자체적으로 가지고 있는 함수들이 있다. 이 함수들은 다른말로 문자열 내장함수 라고 말한다.\n",
    "이 내장함수를 사용하려면 문자열 변수 이름 뒤에 ’.’를 붙인 다음에 함수 이름을 써주면 된다.\n",
    "이제 문자열이 자체적으로 가지고 있는 내장 함수들에 대해서 알아보자.\n",
    "\"\"\"\n",
    "table = dict()\n",
    "words = sentence.split()\n",
    "for word in words:\n",
    "    if word not in table:\n",
    "        table[word] = 1\n",
    "    else:\n",
    "        table[word] += 1\n",
    "print(table)\n",
    "```\n",
    "\n",
    "- 음절 count\n",
    "\n",
    "```\n",
    "table = dict()\n",
    "for ind in range(len(sentence)):\n",
    "    eomjeol = sentence[ind]\n",
    "    if eomjeol not in table:\n",
    "        table[eomjeol] = 1\n",
    "    else:\n",
    "        table[eomjeol] += 1\n",
    "print(table)\n",
    "```"
   ]
  },
  {
   "cell_type": "code",
   "execution_count": null,
   "metadata": {},
   "outputs": [],
   "source": [
    "sentence = \"\"\"문자열 자료형은 자체적으로 가지고 있는 함수들이 있다. 이 함수들은 다른말로 문자열 내장함수 라고 말한다.\n",
    "이 내장함수를 사용하려면 문자열 변수 이름 뒤에 ’.’를 붙인 다음에 함수 이름을 써주면 된다.\n",
    "이제 문자열이 자체적으로 가지고 있는 내장 함수들에 대해서 알아보자.\n",
    "\"\"\"\n",
    "table = dict()\n",
    "for ind in range(len(sentence)):\n",
    "    eomjeol = sentence[ind]\n",
    "    if eomjeol not in table:\n",
    "        table[eomjeol] = 1\n",
    "    else:\n",
    "        table[eomjeol] += 1\n",
    "print(table)"
   ]
  },
  {
   "cell_type": "markdown",
   "metadata": {},
   "source": [
    "# 10. file 다루기\n",
    "- file: 컴퓨터에서 정보를 저장하는 가장 작은 논리적인 단위\n",
    "- 폴더: 파일을 담는 또 하나의 파일로, 여러 파일을 포함할 수 있는 그릇\n",
    "\n",
    "## 파일의 개념\n",
    "- 파일: 보조기억장치에서 프로그램, 문서, 소리, 그림, 동영상과 같은 자료를 모아 놓은 것\n",
    "- 전원이 꺼져도 보관\n",
    "- 운영체제는 파일 조작과 관련된 기능을 라이브러리로 제공\n",
    "\n",
    "\n",
    "![파일](../images/12_P535_1.jpg)\n",
    "\n",
    "- EOF(End of File): 파일의 끝에 끝임을 알리는 마커\n",
    "- 위치표시자(position indicator): 입출력 동작이 발생하는 위치\n",
    "\n",
    "![파일](../images/12_P535_2.png)\n",
    "- file 종류\n",
    "![파일종류](../images/파일종류.png)"
   ]
  },
  {
   "cell_type": "markdown",
   "metadata": {},
   "source": [
    "## 텍스트 파일 읽고 쓰기\n",
    "### 파일 열기와 닫기\n",
    "![파일열기_닫기](../images/12_P537.png)\n",
    "\n",
    "### 파일 열기 모드\n",
    "![파일열기모드](../images/12_P538.png)"
   ]
  },
  {
   "cell_type": "markdown",
   "metadata": {},
   "source": [
    "```\n",
    "### phones.txt\n",
    "홍길동 010-1234-5678\n",
    "김철수 010-1234-5679\n",
    "김영희 010-1234-5680\n",
    "```"
   ]
  },
  {
   "cell_type": "code",
   "execution_count": null,
   "metadata": {},
   "outputs": [],
   "source": [
    "infile = open(\"phones_euckr.txt\", \"r\")\n",
    "s = infile.read() \n",
    "print(s);\n",
    "infile.close() "
   ]
  },
  {
   "cell_type": "markdown",
   "metadata": {},
   "source": [
    "## file 작성 code 에 따라서 읽고 쓸 때 encoding\n",
    "- UltraEdit, EMEditor로 확인\n",
    "- encoding = 'utf8'\n",
    "- encoding = 'euc-kr'"
   ]
  },
  {
   "cell_type": "code",
   "execution_count": null,
   "metadata": {},
   "outputs": [],
   "source": [
    "infile = open(\"TestCorpus_euckr.txt\", \"r\")\n",
    "s = infile.read() \n",
    "print(s);\n",
    "infile.close() "
   ]
  },
  {
   "cell_type": "code",
   "execution_count": null,
   "metadata": {},
   "outputs": [],
   "source": [
    "infile = open(\"TestCorpus_utf8.txt\", \"r\", encoding='utf8')\n",
    "s = infile.read() \n",
    "print(s);\n",
    "infile.close() "
   ]
  },
  {
   "cell_type": "markdown",
   "metadata": {},
   "source": [
    "## file 읽기\n",
    "- read([n]): 최대 n개의 문자만 읽기. n 생략하면 전체 읽기\n",
    "- readline(n): 최대 n개의 문자까지 한 줄 읽기. n 생략하면 한 줄 전체를 읽음\n",
    "- readlines(): 모든 줄을 읽어서 리스로 반환"
   ]
  },
  {
   "cell_type": "code",
   "execution_count": null,
   "metadata": {},
   "outputs": [],
   "source": [
    "infile = open(\"TestCorpus_euckr.txt\", \"r\")\n",
    "for line in infile:\n",
    "    print(line)   # line 끝 줄바꿈 남아 있음\n",
    "infile.close() "
   ]
  },
  {
   "cell_type": "code",
   "execution_count": null,
   "metadata": {},
   "outputs": [],
   "source": [
    "infile = open(\"TestCorpus_euckr.txt\", \"r\")\n",
    "for line in infile:\n",
    "    line = line.rstrip()   # line 끝 줄바꿈 없앰\n",
    "    print(line)\n",
    "infile.close() "
   ]
  },
  {
   "cell_type": "code",
   "execution_count": null,
   "metadata": {},
   "outputs": [],
   "source": [
    "infile = open(\"TestCorpus_euckr.txt\", \"r\")\n",
    "content_list = infile.readlines()\n",
    "print(content_list)\n",
    "print()\n",
    "linenum = 1\n",
    "for list in content_list:\n",
    "    list = list.rstrip()\n",
    "    print(linenum, list)\n",
    "    linenum += 1\n",
    "infile.close() "
   ]
  },
  {
   "cell_type": "markdown",
   "metadata": {},
   "source": [
    "## 프로그램 생각하기 <file 통계정보 구하기>\n",
    "- file 내의 글자 갯수 (blank, 줄바꿈 제외)\n",
    "- file 내의 단어 갯수\n",
    "- file 줄 수\n",
    "\n",
    "```\n",
    "infile = open(\"TestCorpus_euckr.txt\", \"r\")\n",
    "char_num = word_num = line_num = 0\n",
    "word_list = []\n",
    "for line in infile:\n",
    "    line = line.rstrip()   # line 끝 줄바꿈 없앰\n",
    "    line_num += 1\n",
    "    word_list = line.split(' ')\n",
    "    word_num += len(word_list)\n",
    "    char_num += len(line) - line.count(' ')\n",
    "\n",
    "print(\"총 글자 수\", char_num)\n",
    "print(\"총 단어 수\", word_num) \n",
    "print(\"총 줄 수\", line_num) \n",
    "infile.close() \n",
    "```"
   ]
  },
  {
   "cell_type": "markdown",
   "metadata": {},
   "source": [
    "## file 쓰기\n",
    "- outfile = open(\"파일리름\", \"w\", encoding=\"출력code\")\n",
    "- write(s): 문자열 s를 쓰기\n",
    "- writelines(lines): 순서열 lines에 있는 모든 문자열 쓰기"
   ]
  },
  {
   "cell_type": "code",
   "execution_count": null,
   "metadata": {},
   "outputs": [],
   "source": [
    "f = open(\"count_log.txt\", \"w\")\n",
    "for i in range(1,11):\n",
    "    data = \"%d번째 줄이다.\\n\" %(i)\n",
    "    f.write(data)\n",
    "f.close()"
   ]
  },
  {
   "cell_type": "markdown",
   "metadata": {},
   "source": [
    "## 폴더 다루기\n",
    "### import os\n",
    "### 폴더 생성 (os.mkdir)"
   ]
  },
  {
   "cell_type": "code",
   "execution_count": null,
   "metadata": {},
   "outputs": [],
   "source": [
    "import os\n",
    "\n",
    "if not os.path.isdir(\"log\"):\n",
    "    os.mkdir(\"log\")\n",
    "else:\n",
    "    print(\"이미 log 폴더가 존재합니다.\\n\")"
   ]
  },
  {
   "cell_type": "markdown",
   "metadata": {},
   "source": [
    "### 폴더 내 file 다루기 (os.listdir)"
   ]
  },
  {
   "cell_type": "code",
   "execution_count": null,
   "metadata": {},
   "outputs": [],
   "source": [
    "import os\n",
    "\n",
    "dir_path = r\".\\corpus\"\n",
    "\n",
    "file_list = os.listdir(dir_path)\n",
    "print(file_list)\n",
    "print(len(file_list))   # corpus 폴더 내의 파일 겟수\n",
    "\n",
    "for one_file in file_list:\n",
    "    file_path = os.path.join(dir_path, one_file)\n",
    "    infile = open(file_path, \"r\")\n",
    "    char_num = word_num = line_num = 0\n",
    "    word_list = []\n",
    "    for line in infile:\n",
    "        line = line.rstrip()   # line 끝 줄바꿈 없앰\n",
    "        line_num += 1\n",
    "        word_list = line.split(' ')\n",
    "        word_num += len(word_list)\n",
    "        char_num += len(line) - line.count(' ')\n",
    "\n",
    "    print(\"파일명: \", one_file)\n",
    "    print(\"총 글자 수: \", char_num)\n",
    "    print(\"총 단어 수: \", word_num) \n",
    "    print(\"총 줄 수: \", line_num) \n",
    "    print()\n",
    "    infile.close() "
   ]
  },
  {
   "cell_type": "markdown",
   "metadata": {},
   "source": [
    "## CSV 파일\n",
    "- CSV(Comma Separate Values)는 값들이 콤마(,)를 기준으로 나누어짐\n",
    "- text 파일 (엑셀 파일은 binary 파일)\n",
    "- 엑셀에서 읽을 수 있음 \n",
    "![CSV파일](../images/CSV파일.png)\n",
    "\n",
    "### csv 파일 만들기\n",
    "1. 소스 파일에서 'csv 파일 만들기.xls' 파일을 다운로드한다.\n",
    "2. 엑셀에서 다운로드한 파일을 연다.\n",
    "3. 메뉴 바에서 [파일]-[다른 이름으로 저장]을 선택한다.\n",
    "4. [다른 이름으로 저장] 대화상자에서 ‘파일 형식’을 ‘CSV(쉼표로 분리)’로 선택한 후, [저장]을 클릭한다.\n",
    "5. 엑셀을 종료한 후, 메모장에서 파일 'csv 파일 만들기.csv'을 연다."
   ]
  },
  {
   "cell_type": "code",
   "execution_count": null,
   "metadata": {
    "scrolled": true
   },
   "outputs": [],
   "source": [
    "line_counter = 0            # 파일의 총 줄 수를 세는 변수\n",
    "data_header = [ ]           # 데이터의 필드값을 저장하는 리스트\n",
    "customer_list = [ ]         # customer의 개별 리스트를 저장하는 리스트\n",
    "\n",
    "with open(\"customers.csv\") as customer_data: # customers.csv 파일을 customer_data 객체에 저장\n",
    "    while 1:\n",
    "        data = customer_data.readline()     # customers.csv에 데이터 변수에 한 줄씩 저장\n",
    "        if not data:break                   # 데이터가 없을 때, 반복문 종료\n",
    "        if line_counter == 0:               # 첫 번째 데이터는 데이터의 필드\n",
    "            data_header = data.split(\",\")   # 데이터의 필드는 data_header 리스트에 저장, 데이터 저장 시 \",\"로 분리\n",
    "        else:\n",
    "            customer_list.append(data.split(\",\")) # 일반 데이터는 customer_list 객체에 저장, 데이터 저장 시 “,”로 분리\n",
    "        line_counter +=1\n",
    "\n",
    "print(\"Header:\", data_header)               # 데이터 필드값 출력\n",
    "for i in range(0, 10):                      # 데이터 출력(샘플 10개만)\n",
    "    print(\"Data\",i,\":\",customer_list[i])\n",
    "print(len(customer_list))                   # 전체 데이터 크기 출력"
   ]
  },
  {
   "cell_type": "markdown",
   "metadata": {},
   "source": [
    "### CSV 객체\n",
    "### impoer csv"
   ]
  },
  {
   "cell_type": "code",
   "execution_count": null,
   "metadata": {
    "scrolled": true
   },
   "outputs": [],
   "source": [
    "import csv\n",
    "usa = [ ]                   # 기본 변수명 선언\n",
    "header = [ ]\n",
    "rownum = 0\n",
    "\n",
    "f = open(\"customers.csv\", \"r\")\n",
    "csv_data = csv.reader(\n",
    "    f,                      # 연결할 대상 파일 객체\n",
    "    delimiter=',',          # 데이터를 분리하는 기준\n",
    "    quotechar='\"',          # 데이터를 묶을 때 사용하는 문자\n",
    "    quoting=csv.QUOTE_ALL)  # 데이터를 묶을 정도 쓰는 기준\n",
    "\n",
    "for row in csv_data:                # 읽어 온 데이터를 한 줄씩 처리\n",
    "    if rownum == 0:\n",
    "        header = row                # 첫 번째 줄은 데이터 필드로 따로 저장\n",
    "    location = row[10]              # 'country' 필드 데이터 추출, 한글 처리로 유니코드 데이터를 cp949로 변환\n",
    "    if location.find(\"USA\")!=-1:\n",
    "        usa.append(row)             # ”country” 데이터에 'USA'성남시가 들어가 있으면 usa List에 추가\n",
    "    rownum +=1\n",
    "\n",
    "print(usa)"
   ]
  },
  {
   "cell_type": "markdown",
   "metadata": {},
   "source": [
    "## XML 파일\n",
    "- XML(eXtensible Markup Language): 확장적인 마크업(markup) 언어\n",
    "- 데이터의 구조와 의미를 설명하는 태그를 사용하여 어떤 데이터의 속성과 값을 표현하는 언어\n",
    "\n",
    "![xml_tree](../images/xml_tree.png)\n",
    "![xml](../images/xml2.png)\n",
    "![xml](../images/xml2_dictionary.png)"
   ]
  },
  {
   "cell_type": "markdown",
   "metadata": {},
   "source": [
    "### XML parsing\n",
    "- lxml, html5lib, Beautifulsoup 모듈\n",
    "- dos 창에서 \"pip install Beautifulsoup\""
   ]
  },
  {
   "cell_type": "code",
   "execution_count": null,
   "metadata": {},
   "outputs": [],
   "source": [
    "from bs4 import BeautifulSoup\n",
    "\n",
    "with open(\"books.xml\", \"r\", encoding=\"utf8\")as books_file:\n",
    "    books_xml = books_file.read()               # 파일을 문자열로 읽어 오기\n",
    "\n",
    "soup = BeautifulSoup(books_xml, \"lxml\")         # lxml 파서를 사용해 데이터 분석\n",
    "\n",
    "# author가 들어간 모든 요소의 값 추출\n",
    "for book_info in soup.find_all(\"author\"):\n",
    "    print(book_info)\n",
    "    print(book_info.get_text())                 # 해당 요소에서 값 추출"
   ]
  },
  {
   "cell_type": "markdown",
   "metadata": {},
   "source": [
    "## JSON 파일\n",
    "- 파이썬의 딕셔너리형과 매우 비슷하여, 키-값의 쌍으로 구성\n",
    "\n",
    "![JSON_XML비교](../images/JSON_XML비교.png)\n",
    "\n",
    "- json_example.json\n",
    "\n",
    "```\n",
    "{\"employees\":[\n",
    "    {\"firstName\":\"John\", \"lastName\":\"Doe\"},\n",
    "    {\"firstName\":\"Anna\", \"lastName\":\"Smith\"},\n",
    "    {\"firstName\":\"Peter\", \"lastName\":\"Jones\"}\n",
    "]}\n",
    "```"
   ]
  },
  {
   "cell_type": "code",
   "execution_count": null,
   "metadata": {},
   "outputs": [],
   "source": [
    "import json\n",
    "\n",
    "with open(\"json_example.json\", \"r\") as f:\n",
    "    contents = f.read()                     # 파일 내용 읽어 오기\n",
    "    json_data = json.loads(contents)        # json 파싱\n",
    "    print(json_data[\"employees\"])           # 딕셔너리처럼 사용하기"
   ]
  },
  {
   "cell_type": "markdown",
   "metadata": {},
   "source": [
    "### JSON 쓰기"
   ]
  },
  {
   "cell_type": "code",
   "execution_count": null,
   "metadata": {},
   "outputs": [],
   "source": [
    "import json\n",
    "\n",
    "dict_data ={\"flight\": [{'Name':'Zara','Age':7,'Class':'First'}, {'Name':'Young','Age':61,'Class':'business'}]} # 딕셔너리 생성\n",
    "\n",
    "with open(\"data.json\", \"w\", encoding=\"euc-kr\") as f:\n",
    "    json.dump(dict_data, f)"
   ]
  },
  {
   "cell_type": "markdown",
   "metadata": {},
   "source": [
    "# 11. 함수\n",
    "- 함수(function) : 어떤 일을 수행하는 코드의 덩어리, 또는 코드의 묶음\n",
    "- 함수의 장점\n",
    "    - 프로그램 안에서 중복된 코드를 제거한다.\n",
    "    - 복잡한 프로그래밍 작업을 더 간단한 작업들로 분해할 수 있다\n",
    "    - 함수는 한번 만들어지면 다른 프로그램에서도 재사용될 수 있다\n",
    "    - 함수를 사용하면 가독성이 증대되고, 유지 관리도 쉬워진다\n",
    "\n",
    "![함수](../images/5_P190.png)\n",
    "\n",
    "## 내장함수: 미리 정해진 함수\n",
    "\n",
    "![내장함수](../images/내장함수.png)"
   ]
  },
  {
   "cell_type": "markdown",
   "metadata": {},
   "source": [
    "## 함수의 정의\n",
    "![함수정으;](../images/5_P193.png)"
   ]
  },
  {
   "cell_type": "code",
   "execution_count": null,
   "metadata": {},
   "outputs": [],
   "source": [
    "def say_hello(name):\n",
    "    print(\"안녕, \", name)\n",
    "\n",
    "say_hello(\"철수\")"
   ]
  },
  {
   "cell_type": "code",
   "execution_count": null,
   "metadata": {
    "scrolled": true
   },
   "outputs": [],
   "source": [
    "def say_hello(name, msg):\n",
    "    print(\"안녕, \", name, \"야, \", msg)\n",
    "\n",
    "name=\"철수\"\n",
    "msg=\"어서 집에 오너라\"\n",
    "say_hello(name, msg)"
   ]
  },
  {
   "cell_type": "code",
   "execution_count": null,
   "metadata": {},
   "outputs": [],
   "source": [
    "def get_sum(start, end):\n",
    "\tsum=0\n",
    "\tfor i in range(start, end+1) :\n",
    "\t\tsum += i\n",
    "\treturn sum\n",
    "    \n",
    "result = get_sum(1, 100)\n",
    "print(result)"
   ]
  },
  {
   "cell_type": "markdown",
   "metadata": {},
   "source": [
    "## 함수호출\n",
    "![함수호출](../images/5_P196.png)"
   ]
  },
  {
   "cell_type": "code",
   "execution_count": null,
   "metadata": {},
   "outputs": [],
   "source": [
    "print( get_sum(1, 10))\n",
    "print( get_sum(1, 20))"
   ]
  },
  {
   "cell_type": "markdown",
   "metadata": {},
   "source": [
    "## 함수의 형태\n",
    "![함수의형태](../images/함수의형태.png)"
   ]
  },
  {
   "cell_type": "code",
   "execution_count": null,
   "metadata": {},
   "outputs": [],
   "source": [
    "def a_rectangle_area():         # 매개변수 X , 반환값 X\n",
    "    print(5 * 7)\n",
    "def b_rectangle_area(x, y):     # 매개변수 O , 반환값 X\n",
    "    print(x * y)\n",
    "def c_rectangle_area():         # 매개변수 X , 반환값 O\n",
    "    return (5 * 7)\n",
    "def d_rectangle_area(x , y):    # 매개변수 O , 반환값 O\n",
    "    return (x * y)\n",
    "\n",
    "a_rectangle_area()\n",
    "b_rectangle_area(5, 7)\n",
    "print(c_rectangle_area())\n",
    "print(d_rectangle_area(5, 7))"
   ]
  },
  {
   "cell_type": "markdown",
   "metadata": {},
   "source": [
    "## 무명함수(lambda)\n",
    "![lambda](../images/5_P230.png)"
   ]
  },
  {
   "cell_type": "code",
   "execution_count": null,
   "metadata": {
    "scrolled": true
   },
   "outputs": [],
   "source": [
    "sum = lambda x, y: x+y;\n",
    "\n",
    "print( \"정수의 합  : \", sum( 10, 20 ))\n",
    "print( \"정수의 합  : \", sum( 20, 20 ))"
   ]
  },
  {
   "cell_type": "markdown",
   "metadata": {},
   "source": [
    "# 12. Module & Package\n",
    "- 모듈(module): 작은 프로그램 조각, 함수나 변수들을 모아 놓은 파일\n",
    "- 각 모듈은 저마다 역할이 있고, 서로 다른 모듈과 인터페이스만 연결되면 사용\n",
    "\n",
    "![모듈](../images/카카오개발자.png)\n",
    "\n",
    "## 내장 모듈\n",
    "- copy : 객체 복사\n",
    "- random : 난수 발생\n",
    "- os : 운영체제의 기본적인 기능\n",
    "- sys : 파이썬 인터프리터에 대한 다양한 정보 제공\n",
    "- time : 시간 관련\n",
    "- calendar : 여러 형태의 달력을 출력\n",
    "- collections : 리스트, 튜플, 딕셔너리 등을 확장하여 제작\n",
    "    ![collections](../images/collection_module.png)"
   ]
  },
  {
   "cell_type": "markdown",
   "metadata": {
    "collapsed": true
   },
   "source": [
    "## Package\n",
    "- package: 모듈의 묶음\n",
    "![pakage](../images/package.png)"
   ]
  },
  {
   "cell_type": "markdown",
   "metadata": {},
   "source": [
    "### OrderedDict 모듈\n",
    "- dictionary는 순서를 보장하지 않은 객체\n",
    "- OrderedDict은 key의 순서를 가진 딕셔너리 객체"
   ]
  },
  {
   "cell_type": "code",
   "execution_count": null,
   "metadata": {},
   "outputs": [],
   "source": [
    "d = {}\n",
    "d['x'] = 100\n",
    "d['l'] = 500\n",
    "d['y'] = 200\n",
    "d['z'] = 300\n",
    "\n",
    "for k, v in d.items():\n",
    "    print(k, v)"
   ]
  },
  {
   "cell_type": "code",
   "execution_count": null,
   "metadata": {
    "scrolled": true
   },
   "outputs": [],
   "source": [
    "from collections import OrderedDict         #OrderedDict 모듈 선언\n",
    "\n",
    "d = OrderedDict()\n",
    "d['x'] = 100\n",
    "d['y'] = 200\n",
    "d['z'] = 300\n",
    "d['l'] = 500\n",
    "\n",
    "for k, v in d.items():  # 입력한 순서대로 출력\n",
    "    print(k, v)"
   ]
  },
  {
   "cell_type": "code",
   "execution_count": null,
   "metadata": {},
   "outputs": [],
   "source": [
    "# key(t[0]), 값(t[1])으로 정렬\n",
    "def sort_by_key(t):\n",
    "    return t[0]\n",
    "\n",
    "def sort_by_value(t):\n",
    "    return t[1]\n",
    "\n",
    "from collections import OrderedDict         #OrderedDict 모듈 선언\n",
    "\n",
    "d = dict()\n",
    "d['x'] = 100\n",
    "d['y'] = 200\n",
    "d['z'] = 300\n",
    "d['l'] = 500\n",
    "\n",
    "for k, v in OrderedDict(sorted(d.items(), key=sort_by_key)).items():\n",
    "    print(k, v)"
   ]
  },
  {
   "cell_type": "markdown",
   "metadata": {},
   "source": [
    "### defaultdict 모듈\n",
    "- dictionary 변수 생성시에 key에 기본값을 지정"
   ]
  },
  {
   "cell_type": "code",
   "execution_count": null,
   "metadata": {},
   "outputs": [],
   "source": [
    "d = dict()\n",
    "print(d[\"first\"])"
   ]
  },
  {
   "cell_type": "code",
   "execution_count": null,
   "metadata": {},
   "outputs": [],
   "source": [
    "from collections import defaultdict\n",
    "\n",
    "d = defaultdict(lambda: 0)          # Default 값을 0으로 설정\n",
    "print(d[\"first\"])"
   ]
  },
  {
   "cell_type": "code",
   "execution_count": null,
   "metadata": {},
   "outputs": [],
   "source": [
    "from collections import defaultdict\n",
    "\n",
    "s = [('yellow', 1), ('blue', 2), ('yellow', 3), ('blue', 4), ('red', 1)]\n",
    "d = defaultdict(list)\n",
    "for k, v in s:\n",
    "    d[k].append(v)\n",
    "\n",
    "print(d.items())\n",
    "[('blue', [2, 4]), ('red', [1]), ('yellow', [1, 3])]"
   ]
  },
  {
   "cell_type": "markdown",
   "metadata": {},
   "source": [
    "## 프로그램 생각하기 <단어/음절 count>\n",
    "- defaultdict 모듈을 사용하여 수정해 보세요."
   ]
  },
  {
   "cell_type": "markdown",
   "metadata": {},
   "source": [
    "## Counter 모듈\n",
    "- 시퀀스 자료형의 데이터 요소 개수를 dictionary 형태로 반환하는 자료구조\n",
    "- 리스트나 문자열과 같은 시퀀스 자료형 안의 요소 중 값이 같은 것이 몇 개 있는지 반환"
   ]
  },
  {
   "cell_type": "code",
   "execution_count": null,
   "metadata": {},
   "outputs": [],
   "source": [
    "from collections import Counter\n",
    "text = list(\"시퀀스 자료형의 데이터 요소 개수를 dictionary 형태로 반환하는 자료구조\")\n",
    "text"
   ]
  },
  {
   "cell_type": "code",
   "execution_count": null,
   "metadata": {},
   "outputs": [],
   "source": [
    "c = Counter(text)\n",
    "c"
   ]
  },
  {
   "cell_type": "code",
   "execution_count": null,
   "metadata": {},
   "outputs": [],
   "source": [
    "c['를']"
   ]
  },
  {
   "cell_type": "code",
   "execution_count": null,
   "metadata": {},
   "outputs": [],
   "source": [
    "text = \"\"\"환자에게 정신적 신체적 부담이 거의 없다고 공전문의는 말한다.\n",
    "검사비용은 2만원정도.\n",
    "세침흡인검사는 유방암외에도 갑상선질환, 림프종, 림프선 결핵, 타액선종양, 전이성 암, 전립선 암 진단에도 높은 정확도를 보인다고 한다.\n",
    "순천향병원 이동화 교수(해부병리학)는 \"이 검사법은 간암, 폐암, 췌장암 등 깊숙한 곳의 종양진단에도 유효하며, 목부위의 임파선에까지 암세포가 퍼진 말기 위암 환자에겐 고통을 주지 않고 진단할 수 있는 장점이 있다\"고 말한다.\n",
    "그러나 위 - 대장 등의 악성종양의 타입을 감별하기는 힘들다고 이 교수는 말한다.\n",
    "누관폐색 새 치료법 개발\n",
    "서울중앙병원 송호영 교수(진단방사선과)팀은 눈물샘 통로가 좁거나 막혀 눈물이 코로 배출되지 못하고 눈에 괴는 누관폐색환자에게 플라스틱 스텐트를 이용한 간단한 치료법을 세계에서 처음으로 개발했다고 밝혔다.\n",
    "이로써 전신마취를 동반하는 수술 - 입원이 필요 없이 진료실에서 간단하게 시술할 수 있게 됐다는 것이다.\n",
    "배터리이용 인공팔 첫선\n",
    "영국 스코틀랜드 에덴버그 프린세스 마가렛 로즈병원 정형센터는 전기동력에 의해 움직이며 1㎏의 물건을 집거나 들 수 있는 인공팔을 개발했다고 발표했다.\n",
    "이 전기 인공팔은 충전식 배터리를 이용, 동작이 자유스러우며 인간의 피부와 아주 비슷한 실리콘 피부를 입혀 인간의 팔과 흡사한 것으로 평가됐다.\n",
    "감마나이프로 간질 치료\n",
    "서울중앙병원 황충진 교수(신경외과)팀은 뇌조직 이상에 의한 간질환자 치료에 감마나이프에 의한 수술이 상당한 효과가 있다는 연구 결과를 최근 스웨덴에서 열린 국제학회에 발표했다.\n",
    "건강운동 조깅 가장 많아\n",
    "(주)리서치 앤 리서치는 전국의 성인 6백명을 대상으로 전화 여론조사를 실시한 결과 한국인들이 건강을 위해 하고 있는 운동은 조깅(12.5%), 등산(11.2%)이 가장 많았다고 발표했다.\n",
    "평소 건강을 위해 운동을 하고 있는가를 물어 본 결과 58%가 운동을 한다고 대답했고 42%는 하지 않는다고 답했다고 밝혔다.\n",
    "돌연사 예방 가능 / 일 요시이 노부오 교수 연구\n",
    "호흡곤란 - 구토 - 위통 - 가슴통증 등 / 사망자 반수 이상이 유사한 \"징후\"\n",
    "돌연사를 당한 유족들은 흔히 '멀쩡하던 사람이 잠자다 갑자기 죽었다'고들 한다.\n",
    "그러나, 최근 일본에서는 돌연사도 발병 전 신체적 이상징후를 보인다는 연구가 나와 화제가 되고 있다.\n",
    "연구자는 동방대 의학부 요시이 노부오 교수(뇌신경외과).\n",
    "한 일본잡지의 보도에 따르면 그는 10년전 의대생이었던 장남을 돌연사로 잃었다.\n",
    "그는 장례식 날 아들 친구들로부터 아들이 사망 2 개월 전부터 이상한 증상을 보였다는 얘기를 전해 듣고 다른 유족들에게 그 같은 경험들이 있었는지를 조사했다.\n",
    "결과는 놀랍게도 돌연사한 사람들의 반수 이상이 죽기 전 유사한 증세를 보였다는 것이다.\n",
    "요시이 교수는 이를 계기로 다른 유족들과 함께 '돌연사를 막는 모임'을 만들었다.\n",
    "유족의 말뿐 아니라 돌연사의 주요 원인인 뇌졸중이나 심장질환에서 살아난 사람들의 증언도 모으고 있다.\n",
    "요시이 교수가 수집한 돌연사의 중요한 전조는 표와 같다.\"\"\""
   ]
  },
  {
   "cell_type": "code",
   "execution_count": 5,
   "metadata": {},
   "outputs": [
    {
     "ename": "NameError",
     "evalue": "name 'Counter' is not defined",
     "output_type": "error",
     "traceback": [
      "\u001b[1;31m---------------------------------------------------------------------------\u001b[0m",
      "\u001b[1;31mNameError\u001b[0m                                 Traceback (most recent call last)",
      "\u001b[1;32m<ipython-input-5-fbd1046532b6>\u001b[0m in \u001b[0;36m<module>\u001b[1;34m\u001b[0m\n\u001b[1;32m----> 1\u001b[1;33m \u001b[0mCounter\u001b[0m\u001b[1;33m(\u001b[0m\u001b[0mtext\u001b[0m\u001b[1;33m)\u001b[0m\u001b[1;33m\u001b[0m\u001b[0m\n\u001b[0m",
      "\u001b[1;31mNameError\u001b[0m: name 'Counter' is not defined"
     ]
    }
   ],
   "source": [
    "Counter(text)"
   ]
  }
 ],
 "metadata": {
  "anaconda-cloud": {},
  "kernelspec": {
   "display_name": "Python 3",
   "language": "python",
   "name": "python3"
  },
  "language_info": {
   "codemirror_mode": {
    "name": "ipython",
    "version": 3
   },
   "file_extension": ".py",
   "mimetype": "text/x-python",
   "name": "python",
   "nbconvert_exporter": "python",
   "pygments_lexer": "ipython3",
   "version": "3.6.6"
  }
 },
 "nbformat": 4,
 "nbformat_minor": 2
}
