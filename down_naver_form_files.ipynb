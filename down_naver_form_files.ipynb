{
 "cells": [
  {
   "cell_type": "code",
   "execution_count": 16,
   "metadata": {
    "collapsed": true
   },
   "outputs": [
    {
     "data": {
      "text/plain": "0                             NaN\n1                             NaN\n2                             NaN\n3     LED실내조명등, 네모엘텍, NE1240, 40W\n4                           CI/BI\n                 ...             \n61                            NaN\n62                 차선분리대(무단횡단금지대)\n63                            NaN\n64                            NaN\n65                         방오코팅제(\nName: 회사 제품 3, Length: 66, dtype: object"
     },
     "execution_count": 16,
     "metadata": {},
     "output_type": "execute_result"
    }
   ],
   "source": [
    "import pandas as pd\n",
    "import requests\n",
    "from yarl import URL\n",
    "\n",
    "df = pd.read_excel('form.xlsx')\n",
    "company_name = df[\"기업명\"]\n",
    "product_name = df[\"회사 제품 3\"]\n",
    "\n",
    "product_name"
   ]
  },
  {
   "cell_type": "code",
   "execution_count": 17,
   "outputs": [
    {
     "name": "stdout",
     "output_type": "stream",
     "text": [
      "./제품3/주식회사 네모엘텍(LED실내조명등, 네모엘텍, NE1240, 40W)#a17WDK8c_58_NE1240.png\n",
      "./제품3/주식회사 비잇(CIBI)#jSsnNN6s_58_비잇사업소개서_7.png\n",
      "./제품3/주식회사 숨(매트)#aB3aERld_58_매트리스신제품 (1).jpg\n",
      "./제품3/주식회사 심지(중장비(굴삭기,지게차) 시뮬레이터 멀티모니터형)#r4BWLRLW_58_굴삭기,지게차 멀티.JPG\n",
      "./제품3/성현산업(주)(세이프레시 덴탈용마스크 의약외품 5매입)#ajYOu0EL_58_세이프레시 덴탈용마스크.PNG\n",
      "./제품3/유이케니칼(뉴트라베스트 고농축 1L)#3SiikeLp_58_뉴트라베스트 1L 일괄.jpg\n",
      "./제품3/주식회사 삼화테크(LED투광등)#5qXN7jBf_58_공장등.jpg\n",
      "./제품3/주식회사 트루자임(엘리자베스 퀸즈 콜라겐)#grukQekn_58_콜라겐 세트_2.png\n",
      "./제품3/디자인스튜디오 모해(친환경 타이벡 에코백 )#aXfTAERs_58_139DB424-6F89-4208-BCED-EEB44F059D41_1_201_a.heic\n",
      "./제품3/코리아세이프룸 주식회사(외기유입형 공기청정기(ACU-450 중형))#571mxhf6_58_ACU-450 설치.jpg\n",
      "./제품3/뷰티인사이드(포토샵 이펙트 블러 파우더 팩트)#8ZrKwHka_58_Powder Pact 03_600.jpg\n",
      "./제품3/(주)테라바이오(TB-199KL)#fDgMmVUM_58_TB-199KL_색상변경_2021-05-07.jpg\n",
      "./제품3/주식회사제일도기타일상사(히든바스-욕실장 거울)#eQUPOmGf_58_2021-06-16 10;23;14.PNG\n",
      "./제품3/옐로우578스튜디오(시그니처센트 디퓨저 WAY BACK HOME (출시예정))#eoIZLjto_58_IMG_4505.jpg\n",
      "./제품3/주식회사 나비문고(수저 UV 디스펜서)#pSUiZafZ_58_수저 UV 디스펜서.JPG\n",
      "./제품3/주식회사 알유케이(알루미늄 그레이팅)#n4EsCZjj_58_크기변환_알미늄-2.png\n"
     ]
    },
    {
     "name": "stderr",
     "output_type": "stream",
     "text": [
      "C:\\Users\\itnj\\AppData\\Local\\Temp/ipykernel_91732/2216978022.py:5: SettingWithCopyWarning: \n",
      "A value is trying to be set on a copy of a slice from a DataFrame\n",
      "\n",
      "See the caveats in the documentation: https://pandas.pydata.org/pandas-docs/stable/user_guide/indexing.html#returning-a-view-versus-a-copy\n",
      "  product_name[i] = '제품명없음'\n"
     ]
    },
    {
     "name": "stdout",
     "output_type": "stream",
     "text": [
      "./제품3/송월타월현대상사(제품명없음)#lTJ3y8dJ_58_[문자형심볼]전문대학혁신지원사업단-가로형2-1.jpg\n",
      "./제품3/주식회사 마린이노베이션(해초 종이컵)#o52aywco_58_1U7A5807.jpg\n",
      "./제품3/선F&D(울산강동자연산돌미역)#c81J6Ni_58_상세_23.jpg\n",
      "./제품3/드림디자인(제품명없음)#q2YN3ElO_58_포토폴리오_스티커.jpg\n",
      "./제품3/(주)행복바라기(르다일 휴대용 한 알 비누)#x6CZKd6_58_제품_한알비누.jpg\n",
      "./제품3/시원교구사 (50라인마커 )#9tebqp0i_58_KakaoTalk_20210629_163022838.png\n",
      "./제품3/주식회사 백년건축(사무용가구)#dpsyATye_58_사무용가구.png\n",
      "./제품3/트인로드(주)(차선분리대(무단횡단금지대))#i1SDxahj_58_차선분리대(무단횡단금지대).png\n"
     ]
    }
   ],
   "source": [
    "for i, link in enumerate(df[\"회사 제품 3 이미지\"]):\n",
    "    if type(link) == str:\n",
    "        r = requests.get(link)\n",
    "        if type(product_name[i]) != str:\n",
    "            product_name[i] = '제품명없음'\n",
    "        path = './제품3/'+ '{}({})#{}'.format(company_name[i], product_name[i].replace('/',''), URL(link).query['fileName'])\n",
    "        open(path, \"wb\").write(r.content)\n",
    "        print(path)"
   ],
   "metadata": {
    "collapsed": false,
    "pycharm": {
     "name": "#%%\n"
    }
   }
  },
  {
   "cell_type": "code",
   "execution_count": 21,
   "outputs": [],
   "source": [
    "import pandas as pd\n",
    "\n",
    "df = pd.read_excel('form.xlsx')\n",
    "test = [a.split(\" \")[:2] for a in df[\"사업장 소재지\"]]\n",
    "city = [a[0].split('\\t')[1] for a in test]\n",
    "gu = [a[1] for a in test]\n",
    "\n",
    "df.insert(4, \"도시\", city, True)\n",
    "df.insert(5, \"구\", gu, True)"
   ],
   "metadata": {
    "collapsed": false,
    "pycharm": {
     "name": "#%%\n"
    }
   }
  },
  {
   "cell_type": "code",
   "execution_count": 24,
   "outputs": [],
   "source": [
    "df.to_excel('result.xlsx', index=False)"
   ],
   "metadata": {
    "collapsed": false,
    "pycharm": {
     "name": "#%%\n"
    }
   }
  }
 ],
 "metadata": {
  "kernelspec": {
   "display_name": "Python 3",
   "language": "python",
   "name": "python3"
  },
  "language_info": {
   "codemirror_mode": {
    "name": "ipython",
    "version": 2
   },
   "file_extension": ".py",
   "mimetype": "text/x-python",
   "name": "python",
   "nbconvert_exporter": "python",
   "pygments_lexer": "ipython2",
   "version": "2.7.6"
  }
 },
 "nbformat": 4,
 "nbformat_minor": 0
}