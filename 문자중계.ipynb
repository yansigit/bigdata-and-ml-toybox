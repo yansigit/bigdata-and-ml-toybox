{
 "cells": [
  {
   "cell_type": "code",
   "execution_count": 17,
   "metadata": {
    "collapsed": true
   },
   "outputs": [
    {
     "name": "stdout",
     "output_type": "stream",
     "text": [
      "Requirement already satisfied: selenium in c:\\users\\lnb\\scoop\\persist\\anaconda3\\envs\\machine-learning\\lib\\site-packages (3.141.0)\n",
      "Requirement already satisfied: html5lib in c:\\users\\lnb\\scoop\\persist\\anaconda3\\envs\\machine-learning\\lib\\site-packages (1.1)\n",
      "Requirement already satisfied: six>=1.9 in c:\\users\\lnb\\scoop\\persist\\anaconda3\\envs\\machine-learning\\lib\\site-packages (from html5lib) (1.15.0)\n",
      "Requirement already satisfied: webencodings in c:\\users\\lnb\\scoop\\persist\\anaconda3\\envs\\machine-learning\\lib\\site-packages (from html5lib) (0.5.1)\n",
      "Requirement already satisfied: urllib3 in c:\\users\\lnb\\scoop\\persist\\anaconda3\\envs\\machine-learning\\lib\\site-packages (from selenium) (1.26.4)\n"
     ]
    }
   ],
   "source": [
    "!pip install selenium html5lib"
   ]
  },
  {
   "cell_type": "code",
   "execution_count": 18,
   "outputs": [],
   "source": [
    "from selenium import webdriver\n",
    "from selenium.webdriver.support.wait import WebDriverWait\n",
    "from selenium.webdriver.support import expected_conditions as EC\n",
    "from selenium.webdriver.common.by import By\n",
    "import hashlib\n",
    "import time"
   ],
   "metadata": {
    "collapsed": false,
    "pycharm": {
     "name": "#%%\n"
    }
   }
  },
  {
   "cell_type": "code",
   "execution_count": 19,
   "outputs": [],
   "source": [
    "driver = webdriver.Edge(\"C:\\\\Users\\\\lnb\\\\scoop\\\\apps\\\\edgedriver\\\\current\\\\msedgedriver.exe\")\n",
    "gameId = \"20210321HTSS02021\"\n",
    "url = \"https://sports.news.naver.com/gameCenter/textRelay.nhn?category=kbo&gameId=\" + gameId\n",
    "\n",
    "driver.implicitly_wait(5)"
   ],
   "metadata": {
    "collapsed": false,
    "pycharm": {
     "name": "#%%\n"
    }
   }
  },
  {
   "cell_type": "code",
   "execution_count": 21,
   "outputs": [
    {
     "name": "stdout",
     "output_type": "stream",
     "text": [
      "===== 현재 선수 상황 =====\n",
      "7번타자 김호령\n",
      "1루주자 나주환 : 2루까지 진루\n",
      "김호령 : 좌익수 오른쪽 1루타\n",
      "- 1구 타격\n",
      "===== 경기 전체 상황 =====\n",
      "\n",
      "===== 현재 선수 상황 =====\n",
      "8번타자 이정훈\n",
      "===== 경기 전체 상황 =====\n",
      "e3d2d2076b7904f16d93bab7ca46ef0d\n",
      "===== 현재 선수 상황 =====\n",
      "8번타자 이정훈\n",
      "- 2구 볼\n",
      "- 1구 스트라이크\n",
      "===== 경기 전체 상황 =====\n",
      "053b9ed1511e18f4e5628cd24d51b02b\n",
      "===== 현재 선수 상황 =====\n",
      "8번타자 이정훈\n",
      "- 3구 볼\n",
      "- 2구 볼\n",
      "- 1구 스트라이크\n",
      "===== 경기 전체 상황 =====\n",
      "009fd790bda11c2d83c6e44ae7961578\n",
      "===== 현재 선수 상황 =====\n",
      "8번타자 이정훈\n",
      "- 4구 볼\n",
      "- 3구 볼\n",
      "- 2구 볼\n",
      "- 1구 스트라이크\n",
      "===== 경기 전체 상황 =====\n",
      "c0c2f09d7e11a8d513f0685ed99331d2\n",
      "===== 현재 선수 상황 =====\n",
      "8번타자 이정훈\n",
      "- 5구 스트라이크\n",
      "- 4구 볼\n",
      "- 3구 볼\n",
      "- 2구 볼\n",
      "- 1구 스트라이크\n",
      "===== 경기 전체 상황 =====\n",
      "b295e5423ebf8dfa93d35c001e07f2fd\n",
      "===== 현재 선수 상황 =====\n",
      "8번타자 이정훈\n",
      "이정훈 : 삼진 아웃\n",
      "- 6구 스트라이크\n",
      "- 5구 스트라이크\n",
      "- 4구 볼\n",
      "- 3구 볼\n",
      "- 2구 볼\n",
      "- 1구 스트라이크\n",
      "===== 경기 전체 상황 =====\n",
      "fa00d30e20bc22ca2b9bb4d31151d60c\n",
      "===== 현재 선수 상황 =====\n",
      "9번타자 김규성\n",
      "===== 경기 전체 상황 =====\n",
      "b57eb8aadd03da23b51781c67bcdf064\n",
      "===== 현재 선수 상황 =====\n",
      "9번타자 김규성\n",
      "- 1구 스트라이크\n",
      "===== 경기 전체 상황 =====\n",
      "c0ea0d8d06eff876451d8641365affef\n",
      "===== 현재 선수 상황 =====\n",
      "9번타자 김규성\n",
      "- 2구 파울\n",
      "- 1구 스트라이크\n",
      "===== 경기 전체 상황 =====\n",
      "9031ee7ad294b77208224b796eb27557\n",
      "===== 현재 선수 상황 =====\n",
      "9번타자 김규성\n",
      "- 3구 볼\n",
      "- 2구 파울\n",
      "- 1구 스트라이크\n",
      "===== 경기 전체 상황 =====\n",
      "9f8d2a1f38ec0f192dc105f4c7a254c1\n"
     ]
    },
    {
     "ename": "WebDriverException",
     "evalue": "Message: chrome not reachable\n  (Session info: MicrosoftEdge=89.0.774.57)\n",
     "output_type": "error",
     "traceback": [
      "\u001B[1;31m---------------------------------------------------------------------------\u001B[0m",
      "\u001B[1;31mWebDriverException\u001B[0m                        Traceback (most recent call last)",
      "\u001B[1;32m<ipython-input-21-1e3f16105334>\u001B[0m in \u001B[0;36m<module>\u001B[1;34m\u001B[0m\n\u001B[0;32m      6\u001B[0m \u001B[1;33m\u001B[0m\u001B[0m\n\u001B[0;32m      7\u001B[0m \u001B[1;32mwhile\u001B[0m \u001B[1;36m1\u001B[0m\u001B[1;33m:\u001B[0m\u001B[1;33m\u001B[0m\u001B[1;33m\u001B[0m\u001B[0m\n\u001B[1;32m----> 8\u001B[1;33m     \u001B[0mdriver\u001B[0m\u001B[1;33m.\u001B[0m\u001B[0mget\u001B[0m\u001B[1;33m(\u001B[0m\u001B[0murl\u001B[0m\u001B[1;33m)\u001B[0m\u001B[1;33m\u001B[0m\u001B[1;33m\u001B[0m\u001B[0m\n\u001B[0m\u001B[0;32m      9\u001B[0m \u001B[1;33m\u001B[0m\u001B[0m\n\u001B[0;32m     10\u001B[0m     entire_innings_button = WebDriverWait(driver, 10).until(\n",
      "\u001B[1;32m~\\scoop\\apps\\anaconda3\\current\\envs\\machine-learning\\lib\\site-packages\\selenium\\webdriver\\remote\\webdriver.py\u001B[0m in \u001B[0;36mget\u001B[1;34m(self, url)\u001B[0m\n\u001B[0;32m    331\u001B[0m         \u001B[0mLoads\u001B[0m \u001B[0ma\u001B[0m \u001B[0mweb\u001B[0m \u001B[0mpage\u001B[0m \u001B[1;32min\u001B[0m \u001B[0mthe\u001B[0m \u001B[0mcurrent\u001B[0m \u001B[0mbrowser\u001B[0m \u001B[0msession\u001B[0m\u001B[1;33m.\u001B[0m\u001B[1;33m\u001B[0m\u001B[1;33m\u001B[0m\u001B[0m\n\u001B[0;32m    332\u001B[0m         \"\"\"\n\u001B[1;32m--> 333\u001B[1;33m         \u001B[0mself\u001B[0m\u001B[1;33m.\u001B[0m\u001B[0mexecute\u001B[0m\u001B[1;33m(\u001B[0m\u001B[0mCommand\u001B[0m\u001B[1;33m.\u001B[0m\u001B[0mGET\u001B[0m\u001B[1;33m,\u001B[0m \u001B[1;33m{\u001B[0m\u001B[1;34m'url'\u001B[0m\u001B[1;33m:\u001B[0m \u001B[0murl\u001B[0m\u001B[1;33m}\u001B[0m\u001B[1;33m)\u001B[0m\u001B[1;33m\u001B[0m\u001B[1;33m\u001B[0m\u001B[0m\n\u001B[0m\u001B[0;32m    334\u001B[0m \u001B[1;33m\u001B[0m\u001B[0m\n\u001B[0;32m    335\u001B[0m     \u001B[1;33m@\u001B[0m\u001B[0mproperty\u001B[0m\u001B[1;33m\u001B[0m\u001B[1;33m\u001B[0m\u001B[0m\n",
      "\u001B[1;32m~\\scoop\\apps\\anaconda3\\current\\envs\\machine-learning\\lib\\site-packages\\selenium\\webdriver\\remote\\webdriver.py\u001B[0m in \u001B[0;36mexecute\u001B[1;34m(self, driver_command, params)\u001B[0m\n\u001B[0;32m    319\u001B[0m         \u001B[0mresponse\u001B[0m \u001B[1;33m=\u001B[0m \u001B[0mself\u001B[0m\u001B[1;33m.\u001B[0m\u001B[0mcommand_executor\u001B[0m\u001B[1;33m.\u001B[0m\u001B[0mexecute\u001B[0m\u001B[1;33m(\u001B[0m\u001B[0mdriver_command\u001B[0m\u001B[1;33m,\u001B[0m \u001B[0mparams\u001B[0m\u001B[1;33m)\u001B[0m\u001B[1;33m\u001B[0m\u001B[1;33m\u001B[0m\u001B[0m\n\u001B[0;32m    320\u001B[0m         \u001B[1;32mif\u001B[0m \u001B[0mresponse\u001B[0m\u001B[1;33m:\u001B[0m\u001B[1;33m\u001B[0m\u001B[1;33m\u001B[0m\u001B[0m\n\u001B[1;32m--> 321\u001B[1;33m             \u001B[0mself\u001B[0m\u001B[1;33m.\u001B[0m\u001B[0merror_handler\u001B[0m\u001B[1;33m.\u001B[0m\u001B[0mcheck_response\u001B[0m\u001B[1;33m(\u001B[0m\u001B[0mresponse\u001B[0m\u001B[1;33m)\u001B[0m\u001B[1;33m\u001B[0m\u001B[1;33m\u001B[0m\u001B[0m\n\u001B[0m\u001B[0;32m    322\u001B[0m             response['value'] = self._unwrap_value(\n\u001B[0;32m    323\u001B[0m                 response.get('value', None))\n",
      "\u001B[1;32m~\\scoop\\apps\\anaconda3\\current\\envs\\machine-learning\\lib\\site-packages\\selenium\\webdriver\\remote\\errorhandler.py\u001B[0m in \u001B[0;36mcheck_response\u001B[1;34m(self, response)\u001B[0m\n\u001B[0;32m    240\u001B[0m                 \u001B[0malert_text\u001B[0m \u001B[1;33m=\u001B[0m \u001B[0mvalue\u001B[0m\u001B[1;33m[\u001B[0m\u001B[1;34m'alert'\u001B[0m\u001B[1;33m]\u001B[0m\u001B[1;33m.\u001B[0m\u001B[0mget\u001B[0m\u001B[1;33m(\u001B[0m\u001B[1;34m'text'\u001B[0m\u001B[1;33m)\u001B[0m\u001B[1;33m\u001B[0m\u001B[1;33m\u001B[0m\u001B[0m\n\u001B[0;32m    241\u001B[0m             \u001B[1;32mraise\u001B[0m \u001B[0mexception_class\u001B[0m\u001B[1;33m(\u001B[0m\u001B[0mmessage\u001B[0m\u001B[1;33m,\u001B[0m \u001B[0mscreen\u001B[0m\u001B[1;33m,\u001B[0m \u001B[0mstacktrace\u001B[0m\u001B[1;33m,\u001B[0m \u001B[0malert_text\u001B[0m\u001B[1;33m)\u001B[0m\u001B[1;33m\u001B[0m\u001B[1;33m\u001B[0m\u001B[0m\n\u001B[1;32m--> 242\u001B[1;33m         \u001B[1;32mraise\u001B[0m \u001B[0mexception_class\u001B[0m\u001B[1;33m(\u001B[0m\u001B[0mmessage\u001B[0m\u001B[1;33m,\u001B[0m \u001B[0mscreen\u001B[0m\u001B[1;33m,\u001B[0m \u001B[0mstacktrace\u001B[0m\u001B[1;33m)\u001B[0m\u001B[1;33m\u001B[0m\u001B[1;33m\u001B[0m\u001B[0m\n\u001B[0m\u001B[0;32m    243\u001B[0m \u001B[1;33m\u001B[0m\u001B[0m\n\u001B[0;32m    244\u001B[0m     \u001B[1;32mdef\u001B[0m \u001B[0m_value_or_default\u001B[0m\u001B[1;33m(\u001B[0m\u001B[0mself\u001B[0m\u001B[1;33m,\u001B[0m \u001B[0mobj\u001B[0m\u001B[1;33m,\u001B[0m \u001B[0mkey\u001B[0m\u001B[1;33m,\u001B[0m \u001B[0mdefault\u001B[0m\u001B[1;33m)\u001B[0m\u001B[1;33m:\u001B[0m\u001B[1;33m\u001B[0m\u001B[1;33m\u001B[0m\u001B[0m\n",
      "\u001B[1;31mWebDriverException\u001B[0m: Message: chrome not reachable\n  (Session info: MicrosoftEdge=89.0.774.57)\n"
     ]
    }
   ],
   "source": [
    "current_player_text_hash = \"\"\n",
    "current_player_text = \"\"\n",
    "\n",
    "entire_game_text_hash = \"\"\n",
    "entire_game_text = \"\"\n",
    "\n",
    "while 1:\n",
    "    driver.get(url)\n",
    "\n",
    "    entire_innings_button = WebDriverWait(driver, 10).until(\n",
    "        EC.element_to_be_clickable((By.ID, \"inning_tab_all\"))\n",
    "    )\n",
    "\n",
    "    entire_innings_button.click()\n",
    "\n",
    "    current_player_element = WebDriverWait(driver, 10).until(\n",
    "        EC.presence_of_element_located((By.ID, \"current_player_text\"))\n",
    "    )\n",
    "\n",
    "    textbox = driver.find_element_by_xpath('//*[@id=\"relay_text\"]')\n",
    "    entire_game_text = textbox.get_attribute(\"innerText\")\n",
    "    if \"경기종료\" in entire_game_text:\n",
    "        print(\"경기가 종료되었습니다\")\n",
    "        break\n",
    "\n",
    "    enc = hashlib.md5()\n",
    "    current_player_text = current_player_element.get_attribute(\"innerText\")\n",
    "\n",
    "    enc.update(current_player_text.encode('utf-8'))\n",
    "    if current_player_text_hash != enc.hexdigest():\n",
    "        print(\"===== 현재 선수 상황 =====\")\n",
    "        print(current_player_text.replace(\"\\n\\n\", \"\\n\"))\n",
    "        current_player_text_hash = enc.hexdigest()\n",
    "\n",
    "    enc.update(entire_game_text.encode('utf-8'))\n",
    "    if entire_game_text_hash != enc.hexdigest():\n",
    "        print(\"===== 경기 전체 상황 =====\")\n",
    "        # print(entire_game_text.replace(\"\\n\\n\", \"\\n\"))\n",
    "        print(entire_game_text_hash)\n",
    "        entire_game_text_hash = enc.hexdigest()\n",
    "\n",
    "    time.sleep(5)"
   ],
   "metadata": {
    "collapsed": false,
    "pycharm": {
     "name": "#%%\n"
    }
   }
  }
 ],
 "metadata": {
  "kernelspec": {
   "name": "pycharm-cbb7c530",
   "language": "python",
   "display_name": "PyCharm (bigdata-and-ml-toybox)"
  },
  "language_info": {
   "codemirror_mode": {
    "name": "ipython",
    "version": 2
   },
   "file_extension": ".py",
   "mimetype": "text/x-python",
   "name": "python",
   "nbconvert_exporter": "python",
   "pygments_lexer": "ipython2",
   "version": "2.7.6"
  }
 },
 "nbformat": 4,
 "nbformat_minor": 0
}