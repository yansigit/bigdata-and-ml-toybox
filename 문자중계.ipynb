{
 "cells": [
  {
   "cell_type": "code",
   "execution_count": 8,
   "metadata": {
    "collapsed": true
   },
   "outputs": [
    {
     "name": "stdout",
     "output_type": "stream",
     "text": [
      "Requirement already satisfied: selenium in c:\\users\\lnb\\scoop\\persist\\anaconda3\\envs\\machine-learning\\lib\\site-packages (3.141.0)\n",
      "Requirement already satisfied: html5lib in c:\\users\\lnb\\scoop\\persist\\anaconda3\\envs\\machine-learning\\lib\\site-packages (1.1)\n",
      "Collecting lxml\n",
      "  Downloading lxml-4.6.3-cp38-cp38-win_amd64.whl (3.5 MB)\n",
      "Requirement already satisfied: webencodings in c:\\users\\lnb\\scoop\\persist\\anaconda3\\envs\\machine-learning\\lib\\site-packages (from html5lib) (0.5.1)\n",
      "Requirement already satisfied: six>=1.9 in c:\\users\\lnb\\scoop\\persist\\anaconda3\\envs\\machine-learning\\lib\\site-packages (from html5lib) (1.15.0)\n",
      "Requirement already satisfied: urllib3 in c:\\users\\lnb\\scoop\\persist\\anaconda3\\envs\\machine-learning\\lib\\site-packages (from selenium) (1.26.4)\n",
      "Installing collected packages: lxml\n",
      "Successfully installed lxml-4.6.3\n"
     ]
    }
   ],
   "source": [
    "!pip install selenium html5lib lxml"
   ]
  },
  {
   "cell_type": "code",
   "execution_count": 1,
   "outputs": [],
   "source": [
    "from selenium import webdriver\n",
    "from selenium.webdriver.support.wait import WebDriverWait\n",
    "from selenium.webdriver.support import expected_conditions as EC\n",
    "from selenium.webdriver.common.by import By\n",
    "import pandas as pd\n",
    "import hashlib\n",
    "import time"
   ],
   "metadata": {
    "collapsed": false,
    "pycharm": {
     "name": "#%%\n"
    }
   }
  },
  {
   "cell_type": "code",
   "execution_count": 8,
   "outputs": [],
   "source": [
    "driver = webdriver.Edge(\"C:\\\\Users\\\\lnb\\\\scoop\\\\apps\\\\edgedriver\\\\current\\\\msedgedriver.exe\")\n",
    "date = \"20210321\"\n",
    "gameId = date + \"HTSS02021\"\n",
    "url = \"https://sports.news.naver.com/gameCenter/textRelay.nhn?category=kbo&gameId=\" + gameId\n",
    "\n",
    "driver.implicitly_wait(5)"
   ],
   "metadata": {
    "collapsed": false,
    "pycharm": {
     "name": "#%%\n"
    }
   }
  },
  {
   "cell_type": "code",
   "execution_count": 22,
   "outputs": [],
   "source": [
    "def save_lineup_to_csv(_lineup_box):\n",
    "    lineup_title_bar = _lineup_box.find_element_by_xpath('//*[@id=\"lineup_box\"]/h3')\n",
    "    lineup_title = lineup_title_bar.get_attribute('innerText').split(' ', 1)[0]\n",
    "    # 투수 라인업\n",
    "    tusu_table = _lineup_box.find_element_by_xpath('//*[@id=\"lineup_box\"]/div/table[1]')\n",
    "    # 타자 라인업\n",
    "    taja_table = _lineup_box.find_element_by_xpath('//*[@id=\"lineup_box\"]/div/table[2]')\n",
    "\n",
    "    tusu_df = pd.read_html(tusu_table.get_attribute('outerHTML'))[0]\n",
    "    tusu_df[\"이름\"].to_csv(\"./csv/\" + date + \"-\" + lineup_title + \"-투수.csv\", index=False, encoding=\"utf-8-sig\", index_label=None, header=False)\n",
    "\n",
    "    taja_df = pd.read_html(taja_table.get_attribute('outerHTML'))[0]\n",
    "    taja_df[\"이름\"].to_csv(\"./csv/\" + date + \"-\" + lineup_title + \"-타자.csv\", index=False, encoding=\"utf-8-sig\", index_label=None, header=False)\n",
    "\n",
    "    # div 없애기\n",
    "    lineup_title_bar.click()\n",
    "\n",
    "\n",
    "\n",
    "driver.get(url)\n",
    "\n",
    "away_lineup_btn = WebDriverWait(driver, 10).until(\n",
    "        EC.element_to_be_clickable((By.XPATH, '//*[@id=\"away_lineup_btn\"]'))\n",
    ")\n",
    "home_lineup_btn = WebDriverWait(driver, 10).until(\n",
    "    EC.element_to_be_clickable((By.XPATH, '//*[@id=\"home_lineup_btn\"]'))\n",
    ")\n",
    "\n",
    "away_lineup_btn.click()\n",
    "lineup_box = WebDriverWait(driver, 10).until(\n",
    "    EC.presence_of_element_located((By.XPATH, '//*[@id=\"lineup_box\"]'))\n",
    ")\n",
    "save_lineup_to_csv(lineup_box)\n",
    "\n",
    "home_lineup_btn.click()\n",
    "lineup_box = WebDriverWait(driver, 10).until(\n",
    "    EC.presence_of_element_located((By.XPATH, '//*[@id=\"lineup_box\"]'))\n",
    ")\n",
    "save_lineup_to_csv(lineup_box)"
   ],
   "metadata": {
    "collapsed": false,
    "pycharm": {
     "name": "#%%\n"
    }
   }
  },
  {
   "cell_type": "code",
   "execution_count": null,
   "outputs": [],
   "source": [
    "current_player_text_hash = \"\"\n",
    "current_player_text = \"\"\n",
    "\n",
    "entire_game_text_hash = \"\"\n",
    "entire_game_text = \"\"\n",
    "\n",
    "while 1:\n",
    "    driver.get(url)\n",
    "\n",
    "    entire_innings_button = WebDriverWait(driver, 10).until(\n",
    "        EC.element_to_be_clickable((By.ID, \"inning_tab_all\"))\n",
    "    )\n",
    "\n",
    "    entire_innings_button.click()\n",
    "\n",
    "    current_player_element = WebDriverWait(driver, 10).until(\n",
    "        EC.presence_of_element_located((By.ID, \"current_player_text\"))\n",
    "    )\n",
    "\n",
    "    textbox = driver.find_element_by_xpath('//*[@id=\"relay_text\"]')\n",
    "    entire_game_text = textbox.get_attribute(\"innerText\")\n",
    "    if \"경기종료\" in entire_game_text:\n",
    "        print(\"경기가 종료되었습니다\")\n",
    "        break\n",
    "\n",
    "    enc = hashlib.md5()\n",
    "    current_player_text = current_player_element.get_attribute(\"innerText\")\n",
    "\n",
    "    enc.update(current_player_text.encode('utf-8'))\n",
    "    if current_player_text_hash != enc.hexdigest():\n",
    "        print(\"===== 현재 선수 상황 =====\")\n",
    "        print(current_player_text.replace(\"\\n\\n\", \"\\n\"))\n",
    "        current_player_text_hash = enc.hexdigest()\n",
    "\n",
    "    enc.update(entire_game_text.encode('utf-8'))\n",
    "    if entire_game_text_hash != enc.hexdigest():\n",
    "        print(\"===== 경기 전체 상황 =====\")\n",
    "        # print(entire_game_text.replace(\"\\n\\n\", \"\\n\"))\n",
    "        print(entire_game_text_hash)\n",
    "        entire_game_text_hash = enc.hexdigest()\n",
    "\n",
    "    time.sleep(5)"
   ],
   "metadata": {
    "collapsed": false,
    "pycharm": {
     "name": "#%%\n"
    }
   }
  }
 ],
 "metadata": {
  "kernelspec": {
   "name": "pycharm-cbb7c530",
   "language": "python",
   "display_name": "PyCharm (bigdata-and-ml-toybox)"
  },
  "language_info": {
   "codemirror_mode": {
    "name": "ipython",
    "version": 2
   },
   "file_extension": ".py",
   "mimetype": "text/x-python",
   "name": "python",
   "nbconvert_exporter": "python",
   "pygments_lexer": "ipython2",
   "version": "2.7.6"
  }
 },
 "nbformat": 4,
 "nbformat_minor": 0
}