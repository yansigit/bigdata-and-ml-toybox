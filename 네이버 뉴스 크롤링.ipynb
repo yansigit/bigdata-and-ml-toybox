{
 "cells": [
  {
   "cell_type": "markdown",
   "metadata": {},
   "source": [
    "## Word Cloud\n",
    "\n",
    "- NAVER 신문 crawling (2020.10.01 ~ 2020.10.31)\n",
    "- 정치, 경제 분야 title (중복기사 제거)\n",
    "\n",
    "- 모든 신문사의 모든 10월 정치, 경제 기사를 크롤링하기 때문에 느립니다.\n",
    "- 122, 125줄에서 언론사와 날짜를 한정하여 재할당할 수 있도록 하여 테스트 및 평가하기 쉽도록 했습니다.\n",
    "- **맥 기반에서 작업하여 윈도우에서 실행 시 차이가 있을 수 있습니다**"
   ]
  },
  {
   "cell_type": "code",
   "execution_count": 1,
   "metadata": {},
   "outputs": [],
   "source": [
    "import requests\n",
    "from IPython.core.display import display\n",
    "from bs4 import BeautifulSoup\n",
    "import pandas as pd"
   ]
  },
  {
   "cell_type": "code",
   "execution_count": 2,
   "metadata": {},
   "outputs": [
    {
     "name": "stdout",
     "output_type": "stream",
     "text": [
      "{'경향신문': '032', '국민일보': '005', '동아일보': '020', '문화일보': '021', '서울신문': '081', '세계일보': '022', '조선일보': '023', '중앙일보': '025', '한겨레': '028', '한국일보': '469', '뉴스1': '421', '뉴시스': '003', '연합뉴스': '001', '연합뉴스TV': '422', '채널A': '449', '한국경제TV': '215', 'JTBC': '437', 'KBS': '056', 'MBC': '214', 'MBN': '057', 'SBS': '055', 'SBS CNBC': '374', 'TV조선': '448', 'YTN': '052', '매일경제': '009', '머니투데이': '008', '서울경제': '011', '아시아경제': '277', '이데일리': '018', '조선비즈': '366', '조세일보': '123', '파이낸셜뉴스': '014', '한국경제': '015', '헤럴드경제': '016', '노컷뉴스': '079', '더팩트': '629', '데일리안': '119', '머니S': '417', '미디어오늘': '006', '아이뉴스24': '031', '오마이뉴스': '047', '프레시안': '002', '디지털데일리': '138', '디지털타임스': '029', '블로터': '293', '전자신문': '030', 'ZDNet Korea': '092', '레이디경향': '145', '매경이코노미': '024', '시사IN': '308', '시사저널': '586', '신동아': '262', '월간 산': '094', '이코노미스트': '243', '주간경향': '033', '주간동아': '037', '주간조선': '053', '중앙SUNDAY': '353', '한겨레21': '036', '한경비즈니스': '050', '기자협회보': '127', '뉴스타파': '607', '동아사이언스': '584', '여성신문': '310', '일다': '007', '코리아중앙데일리': '640', '코리아헤럴드': '044', '코메디닷컴': '296', '헬스조선': '346', '강원일보': '087', '매일신문': '088', '부산일보': '082', '신화사 연합뉴스': '348', 'AP연합뉴스': '077', 'EPA연합뉴스': '091'}\n"
     ]
    }
   ],
   "source": [
    "url = \"https://news.naver.com/main/officeList.nhn\"\n",
    "# 크롤링 차단하고 있으므로 User-Agent 지정하여 우회\n",
    "html = requests.get(url, headers={\"User-Agent\" : \"Mozilla/5.0\"})\n",
    "soup = BeautifulSoup(html.text, 'html.parser')\n",
    "\n",
    "# 신문 제공사 딕셔너리\n",
    "# 신문사이름: 신문사번호\n",
    "newspapers = {}\n",
    "\n",
    "# css selector 이용하여 파싱\n",
    "for ele in soup.select('ul.group_list a'):\n",
    "    newspapers[ele.text] = (ele['href'].split('&oid=')[1])\n",
    "\n",
    "# 파라미터 붙어서 수동할당\n",
    "newspapers['연합뉴스'] = '001'\n",
    "\n",
    "print(newspapers)"
   ]
  },
  {
   "cell_type": "code",
   "execution_count": 3,
   "outputs": [],
   "source": [
    "import pandas as pd\n",
    "\n",
    "daterange = pd.date_range(start='20101001', end='20101002').strftime('%Y%m%d')\n",
    "datarange = [str(date) for date in daterange]"
   ],
   "metadata": {
    "collapsed": false,
    "pycharm": {
     "name": "#%%\n"
    }
   }
  },
  {
   "cell_type": "code",
   "execution_count": 4,
   "outputs": [],
   "source": [
    "# from selenium import webdriver\n",
    "# driver = webdriver.Chrome(\"/usr/local/bin/chromedriver\")"
   ],
   "metadata": {
    "collapsed": false,
    "pycharm": {
     "name": "#%%\n"
    }
   }
  },
  {
   "cell_type": "code",
   "execution_count": 14,
   "metadata": {},
   "outputs": [],
   "source": [
    "from datetime import datetime\n",
    "# 위 출력된 리스트 중 하나 산택\n",
    "# company = '동아일보'\n",
    "\n",
    "def startparse(company):\n",
    "\n",
    "    # 정치, 경제, 사회, 생활/문화, 세계, IT/과학, 오피니언 중 선택\n",
    "    # subject = '정치'\n",
    "\n",
    "    # 분류 딕셔너리\n",
    "    sids = {'정치': '100', '경제': '101'} # '사회': '102', '생활/문화': '103', '세계': '104', 'IT/과학': '105', '오피니언': '110'}\n",
    "\n",
    "    # 신문사 넘버\n",
    "    company_num = newspapers[company]\n",
    "\n",
    "    # 분야 번호\n",
    "    # sid = sids[subject]\n",
    "\n",
    "    # dataFrame dictionary\n",
    "    # news = {'신문사': [], '제목': [], 'link': []}\n",
    "\n",
    "    result_list = {'정치': set(), '경제': set()}\n",
    "\n",
    "    for date in daterange:\n",
    "        for sid in sids:\n",
    "            # 뉴스 페이지들 끝 번호 알아내기\n",
    "            url = \"https://news.naver.com/main/list.nhn?mode=LPOD&listType=title&sid1={}&mid=sec&oid={}&date={}&page=9999\".format(sids[sid], company_num, date)\n",
    "            html = requests.get(url, headers={'User-Agent':'Mozilla/5.0 (Windows NT 10.0; Win64; x64) AppleWebKit/537.36 (KHTML, like Gecko) Chrome/86.0.4240.75 Safari/537.36'})\n",
    "            soup = BeautifulSoup(html.text, 'html.parser')\n",
    "            pages = soup.select('div.paging strong')\n",
    "\n",
    "            lastpage = int(pages[-1].text)\n",
    "\n",
    "            # 각 페이지마다\n",
    "            for page in range(lastpage):\n",
    "                list_url = \"https://news.naver.com/main/list.nhn?mode=LPOD&listType=title&sid1={}&mid=sec&oid={}&date={}&page={}\".format(sids[sid], company_num, date, page)\n",
    "                list_html = requests.get(list_url, headers={'User-Agent':'Mozilla/5.0 (Windows NT 10.0; Win64; x64) AppleWebKit/537.36 (KHTML, like Gecko) Chrome/86.0.4240.75 Safari/537.36'})\n",
    "                list_soup = BeautifulSoup(list_html.text, 'html.parser')\n",
    "\n",
    "                # print(list_url)\n",
    "\n",
    "                # 뉴스 인덱스\n",
    "                elem_index = 0\n",
    "                # 각 뉴스 기사마다\n",
    "                for element in list_soup.select('div.list_body ul a'):\n",
    "\n",
    "                    if element.find('img') is not None:\n",
    "                        continue\n",
    "\n",
    "                    try:\n",
    "                        article_date = list_soup.select('span.date')[elem_index].text\n",
    "                        article_date = article_date.split('. ')[0]\n",
    "                        article_date = datetime.strptime(article_date, '%Y.%m.%d')\n",
    "                    except:\n",
    "                        print('리스트 파싱 과정에서 오류 발생')\n",
    "                        break\n",
    "\n",
    "                    if article_date != datetime.strptime(date, '%Y%m%d'):\n",
    "                        # print('다음 기사는 날짜가 다르므로 무시합니다', pd.to_datetime(article_date),pd.to_datetime(date))\n",
    "                        elem_index += 1\n",
    "                        continue\n",
    "\n",
    "                    # print('추가: ', sid, element.text)\n",
    "\n",
    "                    if sid == '정치':\n",
    "                        result_list['정치'].add(element.text)\n",
    "                    elif sid == '경제':\n",
    "                        result_list['경제'].add(element.text)\n",
    "\n",
    "                    elem_index += 1\n",
    "\n",
    "    result_list = {'정치': list(result_list['정치']), '경제': list(result_list['경제'])}\n",
    "    print(company, '끝')\n",
    "    return result_list"
   ]
  },
  {
   "cell_type": "code",
   "execution_count": null,
   "metadata": {
    "pycharm": {
     "name": "#%%\n",
     "is_executing": true
    }
   },
   "outputs": [],
   "source": [
    "import pandas as pd\n",
    "from multiprocessing import Pool\n",
    "\n",
    "# 테스트용으로 언론사 일부만 (아래 주석 해제)\n",
    "newspapers = {'경향신문': '032', '국민일보': '005', '동아일보': '020'}\n",
    "\n",
    "# 테스트용으로 10월 1일부터 2일까지만 (아래 주석 두줄 해제)\n",
    "# daterange = pd.date_range(start='20101001', end='20101002').strftime('%Y%m%d')\n",
    "# datarange = [str(date) for date in daterange]\n",
    "\n",
    "result_list = {'정치':[], '경제':[]}\n",
    "\n",
    "# pool = Pool(processes=1) # 4개의 프로세스를 사용합니다.\n",
    "# returndata = pool.map(startparse, list(newspapers))\n",
    "# pool.close()\n",
    "\n",
    "for newspaper in newspapers:\n",
    "    _result = startparse(newspaper)\n",
    "    result_list['정치'].extend(_result['정치'])\n",
    "    result_list['경제'].extend(_result['경제'])"
   ]
  },
  {
   "cell_type": "code",
   "execution_count": null,
   "outputs": [],
   "source": [
    "t1 = pd.Series(result_list['정치'], name='정치')\n",
    "t2 = pd.Series(result_list['경제'], name='경제')\n",
    "df = pd.concat([t1,t2], axis=1)\n",
    "display(df)\n",
    "\n",
    "df.to_csv('네이버 뉴스.csv', encoding='utf-8-sig', index=False)"
   ],
   "metadata": {
    "collapsed": false,
    "pycharm": {
     "name": "#%%\n"
    }
   }
  },
  {
   "cell_type": "code",
   "execution_count": null,
   "outputs": [],
   "source": [
    "from wordcloud import WordCloud, STOPWORDS\n",
    "\n",
    "import numpy as np\n",
    "from PIL import Image"
   ],
   "metadata": {
    "collapsed": false,
    "pycharm": {
     "name": "#%%\n"
    }
   }
  },
  {
   "cell_type": "code",
   "execution_count": null,
   "outputs": [],
   "source": [
    "text = open('네이버 뉴스.csv').read()\n",
    "alice_mask = np.array(Image.open('12주차_한국어분석/alice_mask.png'))\n",
    "\n",
    "stopwords = set(STOPWORDS)\n",
    "stopwords.add(\"said\")"
   ],
   "metadata": {
    "collapsed": false,
    "pycharm": {
     "name": "#%%\n"
    }
   }
  },
  {
   "cell_type": "markdown",
   "source": [
    "### matplotlib에 한글폰트 설치"
   ],
   "metadata": {
    "collapsed": false
   }
  },
  {
   "cell_type": "code",
   "execution_count": null,
   "outputs": [],
   "source": [
    "import matplotlib\n",
    "import matplotlib.pyplot as plt\n",
    "import platform\n",
    "\n",
    "from matplotlib import font_manager, rc\n",
    "if platform.system() == 'Darwin':\n",
    "    matplotlib.rc('font', family='NanumSquare')\n",
    "    # 유니코드에서  음수 부호설정\n",
    "    matplotlib.rc('axes', unicode_minus=False)\n",
    "elif platform.system() == 'Windows':\n",
    "    path = \"c:/Windows/Fonts/malgun.ttf\"\n",
    "    font_name = font_manager.FontProperties(fname=path).get_name()\n",
    "    rc('font', family=font_name)\n",
    "else:\n",
    "    print('Unknown system... sorry~~~~')\n",
    "\n",
    "# %matplotlib inline"
   ],
   "metadata": {
    "collapsed": false,
    "pycharm": {
     "name": "#%%\n"
    }
   }
  },
  {
   "cell_type": "code",
   "execution_count": null,
   "outputs": [],
   "source": [
    "# plt.figure(figsize=(8,8))\n",
    "# plt.imshow(alice_mask, cmap=plt.cm.gray, interpolation='bilinear')\n",
    "# plt.axis('off')\n",
    "# plt.show()"
   ],
   "metadata": {
    "collapsed": false,
    "pycharm": {
     "name": "#%%\n"
    }
   }
  },
  {
   "cell_type": "markdown",
   "source": [
    "### alice.txt에서 단어 count"
   ],
   "metadata": {
    "collapsed": false
   }
  },
  {
   "cell_type": "code",
   "execution_count": null,
   "outputs": [],
   "source": [
    "# 여기서도 글꼴 지정해줘야함 (맥에서는)\n",
    "wc = WordCloud(background_color='white',\n",
    "               font_path=\"/Library/Fonts/NanumBarunGothic.ttf\",\n",
    "               max_words=2000,\n",
    "               mask=alice_mask,\n",
    "                stopwords = stopwords)\n",
    "wc = wc.generate(text)\n",
    "wc.words_"
   ],
   "metadata": {
    "collapsed": false,
    "pycharm": {
     "name": "#%%\n"
    }
   }
  },
  {
   "cell_type": "code",
   "execution_count": null,
   "outputs": [],
   "source": [
    "plt.figure(figsize=(12,12))\n",
    "plt.imshow(wc, interpolation='bilinear')\n",
    "plt.axis('off')\n",
    "plt.show()"
   ],
   "metadata": {
    "collapsed": false,
    "pycharm": {
     "name": "#%%\n"
    }
   }
  },
  {
   "cell_type": "code",
   "execution_count": 20,
   "outputs": [
    {
     "data": {
      "text/plain": "['경향신문', '국민일보', '동아일보']"
     },
     "execution_count": 20,
     "metadata": {},
     "output_type": "execute_result"
    }
   ],
   "source": [
    "list(newspapers)"
   ],
   "metadata": {
    "collapsed": false,
    "pycharm": {
     "name": "#%%\n"
    }
   }
  }
 ],
 "metadata": {
  "kernelspec": {
   "display_name": "Python 3",
   "language": "python",
   "name": "python3"
  },
  "language_info": {
   "codemirror_mode": {
    "name": "ipython",
    "version": 3
   },
   "file_extension": ".py",
   "mimetype": "text/x-python",
   "name": "python",
   "nbconvert_exporter": "python",
   "pygments_lexer": "ipython3",
   "version": "3.8.5"
  }
 },
 "nbformat": 4,
 "nbformat_minor": 4
}