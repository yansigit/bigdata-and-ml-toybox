{
 "cells": [
  {
   "cell_type": "code",
   "execution_count": 1,
   "metadata": {
    "collapsed": true
   },
   "outputs": [],
   "source": [
    "from selenium import webdriver\n",
    "from selenium.webdriver.common.keys import Keys\n",
    "from selenium.webdriver.support.ui import Select\n",
    "\n",
    "driver = webdriver.Chrome(executable_path='chromedriver')\n",
    "driver.implicitly_wait(10)\n",
    "\n",
    "project_path = r'C:\\Users\\itnj\\IdeaProjects\\automation'"
   ]
  },
  {
   "cell_type": "code",
   "execution_count": 5,
   "outputs": [],
   "source": [
    "def dashboard_login():\n",
    "    # 관리자 로그인\n",
    "    driver.get('https://upc.uepa.or.kr/dashboard')\n",
    "\n",
    "    username_input = driver.find_element_by_name('username')\n",
    "    password_input = driver.find_element_by_name('password')\n",
    "\n",
    "    username_input.send_keys('admin@gmail.com')\n",
    "    password_input.send_keys('12345678')\n",
    "    password_input.send_keys(Keys.ENTER)\n",
    "\n",
    "def user_login(email, password):\n",
    "    # 유저 로그인\n",
    "    driver.get('https://upc.uepa.or.kr/signin')\n",
    "\n",
    "    username_input = driver.find_element_by_name('username')\n",
    "    password_input = driver.find_element_by_name('password')\n",
    "\n",
    "    username_input.send_keys(email)\n",
    "    password_input.send_keys(password)\n",
    "    password_input.send_keys(Keys.ENTER)"
   ],
   "metadata": {
    "collapsed": false,
    "pycharm": {
     "name": "#%%\n"
    }
   }
  },
  {
   "cell_type": "code",
   "execution_count": 10,
   "outputs": [],
   "source": [
    "def user_signup(name = '방문기업',\n",
    "    email = 'bangmoon@gmail.com',\n",
    "    password = 'test@123',\n",
    "    phone_num = '01099994444',\n",
    "    pincode = '14241',\n",
    "    address = '울산광역시 가나다라',\n",
    "\n",
    "    cname = '방문기업',\n",
    "    cpincode = '12345',\n",
    "    caddress = '울산광역시 가나다라',\n",
    "    cregistration = '0101010',\n",
    "    cceo = '김방문',\n",
    "    cemail = 'ceo.bangmoon@email.com',\n",
    "    cphone = '01045555555',\n",
    "    product_img = \"/제품1/유이케니칼(뉴트라베스트 클린브이 S 80ml).jpg\",\n",
    "    license_img = 'C:/Users/itnj/Pictures/33131.PNG',\n",
    "    ):\n",
    "    driver.get('https://upc.uepa.or.kr/signup')\n",
    "\n",
    "    # 회원필드\n",
    "    name_input = driver.find_element_by_name('name')\n",
    "    email_input = driver.find_element_by_name('email')\n",
    "    password_input = driver.find_element_by_name('password')\n",
    "    cpassword_input = driver.find_element_by_name('cpassword')\n",
    "    phone_input = driver.find_element_by_name('phone')\n",
    "    pin_input = driver.find_element_by_name('pincode')\n",
    "    address_input = driver.find_element_by_name('address')\n",
    "\n",
    "    # 기업필드\n",
    "    cname_input = driver.find_element_by_name('cname')\n",
    "    cimage_input = driver.find_element_by_name('cimage')\n",
    "    clicense_input = driver.find_element_by_name('clicence')\n",
    "    cpincode_input = driver.find_element_by_name('cpincode')\n",
    "    caddress_input = driver.find_element_by_name('caddress')\n",
    "\n",
    "    # 사업자등록번호\n",
    "    cregistration_input = driver.find_element_by_name('cregistration')\n",
    "    cceo_input = driver.find_element_by_name('cceo')\n",
    "    cphone_input = driver.find_element_by_name('cphone')\n",
    "    cemail_input = driver.find_element_by_name('cemail')\n",
    "    ccategory_input = driver.find_element_by_name('ccategory')\n",
    "    csubcategory_input = driver.find_element_by_name('csubcategory')\n",
    "\n",
    "    # 회원가입 버튼\n",
    "    signup_button = driver.find_element_by_xpath('//*[@id=\"signup-form\"]/div[16]/div/button')\n",
    "\n",
    "    # 이메일 컨펌 버튼\n",
    "    email_confirm = driver.find_element_by_xpath('//*[@id=\"emailcheck\"]')\n",
    "\n",
    "    last_checkbox = driver.find_element_by_class_name('signup_custom_checkbox')\n",
    "    nes_checkbox = last_checkbox.find_element_by_class_name('checkmark')\n",
    "    nes_checkbox.click()\n",
    "\n",
    "    driver.execute_script(\"document.getElementsByName('{}')[0].removeAttribute('readonly')\".format('pincode'))\n",
    "    driver.execute_script(\"document.getElementsByName('{}')[0].removeAttribute('readonly')\".format('address'))\n",
    "    driver.execute_script(\"document.getElementsByName('{}')[0].removeAttribute('readonly')\".format('cpincode'))\n",
    "    driver.execute_script(\"document.getElementsByName('{}')[0].removeAttribute('readonly')\".format('caddress'))\n",
    "\n",
    "    # # 폼 입력\n",
    "    # project_path = r'C:\\Users\\itnj\\IdeaProjects\\automation'\n",
    "    #\n",
    "    # name = '방문기업'\n",
    "    # email = 'bangmoon@gmail.com'\n",
    "    # password = 'test@123'\n",
    "    # phone_num = '01099994444'\n",
    "    # pincode = '14241'\n",
    "    # address = '울산광역시 가나다라'\n",
    "    #\n",
    "    # cname = '방문기업'\n",
    "    # cpincode = '12345'\n",
    "    # caddress = '울산광역시 가나다라'\n",
    "    # cregistration = '0101010'\n",
    "    # cceo = '김방문'\n",
    "    # cemail = 'ceo.bangmoon@email.com'\n",
    "    # cphone = '01045555555'\n",
    "    #\n",
    "    # # 이미지\n",
    "    # product_img = \"/제품1/유이케니칼(뉴트라베스트 클린브이 S 80ml).jpg\"\n",
    "    # license_img = 'C:/Users/itnj/Pictures/33131.PNG'\n",
    "\n",
    "    name_input.send_keys(name)\n",
    "    email_input.send_keys(email)\n",
    "    password_input.send_keys(password)\n",
    "    cpassword_input.send_keys(password)\n",
    "    phone_input.send_keys(phone_num)\n",
    "    pin_input.send_keys(pincode)\n",
    "    address_input.send_keys(address)\n",
    "\n",
    "    cname_input.send_keys(cname)\n",
    "    cpincode_input.send_keys(cpincode)\n",
    "    caddress_input.send_keys(caddress)\n",
    "    cregistration_input.send_keys(cregistration)\n",
    "    cceo_input.send_keys(cceo)\n",
    "    cemail_input.send_keys(cemail)\n",
    "    cphone_input.send_keys(cphone)\n",
    "\n",
    "    # 파일업로드\n",
    "    cimage_input.send_keys(product_img)\n",
    "    clicense_input.send_keys(license_img)\n",
    "\n",
    "    # 드롭박스\n",
    "    Select(ccategory_input).select_by_visible_text('정보통신업')\n",
    "    Select(csubcategory_input).select_by_visible_text('하드웨어')\n",
    "\n",
    "    email_confirm.send_keys(Keys.ENTER)\n",
    "    signup_button.send_keys(Keys.ENTER)"
   ],
   "metadata": {
    "collapsed": false,
    "pycharm": {
     "name": "#%%\n"
    }
   }
  },
  {
   "cell_type": "code",
   "execution_count": 11,
   "outputs": [],
   "source": [
    "user_signup(name='방문', email='bang@moon.com',\n",
    "            cname='(주)방문', cemail='ceo.bang@moon.com',\n",
    "            license_img=project_path + '/사업자등록증.jpg',\n",
    "            product_img=project_path + '/제품2/(주)상상하루(한글하루).png')"
   ],
   "metadata": {
    "collapsed": false,
    "pycharm": {
     "name": "#%%\n"
    }
   }
  }
 ],
 "metadata": {
  "kernelspec": {
   "display_name": "Python 3",
   "language": "python",
   "name": "python3"
  },
  "language_info": {
   "codemirror_mode": {
    "name": "ipython",
    "version": 2
   },
   "file_extension": ".py",
   "mimetype": "text/x-python",
   "name": "python",
   "nbconvert_exporter": "python",
   "pygments_lexer": "ipython2",
   "version": "2.7.6"
  }
 },
 "nbformat": 4,
 "nbformat_minor": 0
}