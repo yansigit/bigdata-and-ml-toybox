{
 "cells": [
  {
   "cell_type": "code",
   "execution_count": 1,
   "metadata": {
    "collapsed": true
   },
   "outputs": [],
   "source": [
    "from datetime import datetime\n",
    "\n",
    "import requests\n",
    "from bs4 import BeautifulSoup"
   ]
  },
  {
   "cell_type": "code",
   "execution_count": 4,
   "outputs": [],
   "source": [
    "def make_today_matches_cron_scheduler():\n",
    "    now = datetime.now()\n",
    "    date = now.strftime(\"%Y%m%d\")\n",
    "    url = 'https://sports.news.naver.com/kbaseball/ajax/templateMatchBox.nhn?date=' + date\n",
    "\n",
    "    res = requests.get(url)\n",
    "    bs = BeautifulSoup(res.text, 'html.parser')\n",
    "\n",
    "    _names = [n.text for n in bs.find_all('span', class_='name')]\n",
    "    matches = []\n",
    "    i = 0\n",
    "    while i<len(_names):\n",
    "        matches.append((_names[i], _names[i+1]))\n",
    "        i += 2\n",
    "    del _names\n",
    "\n",
    "    times = [t.text.split(':') for t in bs.find_all('em', class_='time')]\n",
    "\n",
    "    # import os\n",
    "    # print(os.getcwd())\n",
    "\n",
    "    # crontab 분 시 일 월 python3 /Users/mccreate/Desktop/baseball/simulator.py 일자 어웨이 홈\n",
    "\n",
    "    f = open('scheduler.sh', 'w', encoding='UTF-8')\n",
    "    for i, match in  enumerate(matches):\n",
    "        line = 'crontab {} {} {} {} python3 /Users/mccreate/Desktop/baseball/simulator.py {} {} {}\\n'.format(int(times[i][1]), int(times[i][0]), int(date[6:]), int(date[4:6]), date, match[0], match[1])\n",
    "        f.write(line)\n",
    "    f.close()"
   ],
   "metadata": {
    "collapsed": false,
    "pycharm": {
     "name": "#%%\n"
    }
   }
  },
  {
   "cell_type": "code",
   "execution_count": 5,
   "outputs": [],
   "source": [
    "make_today_matches_cron_scheduler()"
   ],
   "metadata": {
    "collapsed": false,
    "pycharm": {
     "name": "#%%\n"
    }
   }
  }
 ],
 "metadata": {
  "kernelspec": {
   "display_name": "Python 3",
   "language": "python",
   "name": "python3"
  },
  "language_info": {
   "codemirror_mode": {
    "name": "ipython",
    "version": 2
   },
   "file_extension": ".py",
   "mimetype": "text/x-python",
   "name": "python",
   "nbconvert_exporter": "python",
   "pygments_lexer": "ipython2",
   "version": "2.7.6"
  }
 },
 "nbformat": 4,
 "nbformat_minor": 0
}