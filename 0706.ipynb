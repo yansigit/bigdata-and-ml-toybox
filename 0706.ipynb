{
 "cells": [
  {
   "cell_type": "code",
   "execution_count": 34,
   "metadata": {
    "collapsed": true
   },
   "outputs": [],
   "source": [
    "import glob\n",
    "\n",
    "mail_companies = [a.split('.')[1] for a in glob.glob('ulsan/email/*')]\n",
    "mail_companies = [a.replace('@', '') for a in mail_companies]\n",
    "naver_companies = [a.split('.')[1] for a in glob.glob('ulsan/naver/*')]\n",
    "naver_companies = [a.replace('@', '') for a in naver_companies]\n",
    "companies = mail_companies + naver_companies"
   ]
  },
  {
   "cell_type": "code",
   "execution_count": 3,
   "outputs": [],
   "source": [
    "# 이름\n",
    "# 이메일\n",
    "# 비밀번호\n",
    "# 핸드폰 번호 = 00000000000\n",
    "# 회원 유형 [P = 개인, C= 기업]\n",
    "# 기업명"
   ],
   "metadata": {
    "collapsed": false,
    "pycharm": {
     "name": "#%%\n"
    }
   }
  },
  {
   "cell_type": "code",
   "execution_count": 43,
   "outputs": [],
   "source": [
    "import random\n",
    "import string\n",
    "\n",
    "def random_char(y):\n",
    "    return ''.join(random.choice(string.ascii_letters) for x in range(y))"
   ],
   "metadata": {
    "collapsed": false,
    "pycharm": {
     "name": "#%%\n"
    }
   }
  },
  {
   "cell_type": "code",
   "execution_count": 50,
   "outputs": [
    {
     "data": {
      "text/plain": "           이름                이메일           비밀번호       핸드폰 번호 회원 유형       기업명\n0    아낌없이주는나무    user0@gmail.com  PassWord!!123  05212345678     C  아낌없이주는나무\n1       (주)캠프    user1@gmail.com  PassWord!!123  05212345679     C     (주)캠프\n2    사회적경제개발원    user2@gmail.com  PassWord!!123  05212345680     C  사회적경제개발원\n3       (주)레스    user3@gmail.com  PassWord!!123  05212345681     C     (주)레스\n4      IT사무기기    user4@gmail.com  PassWord!!123  05212345682     C    IT사무기기\n..        ...                ...            ...          ...   ...       ...\n132   꽃향글라스아트  user132@gmail.com  PassWord!!123  05212345810     C   꽃향글라스아트\n133     에이원유화  user133@gmail.com  PassWord!!123  05212345811     C     에이원유화\n134    영남블라인드  user134@gmail.com  PassWord!!123  05212345812     C    영남블라인드\n135     부일페인트  user135@gmail.com  PassWord!!123  05212345813     C     부일페인트\n136  유키즈울산-취소  user136@gmail.com  PassWord!!123  05212345814     C  유키즈울산-취소\n\n[137 rows x 6 columns]",
      "text/html": "<div>\n<style scoped>\n    .dataframe tbody tr th:only-of-type {\n        vertical-align: middle;\n    }\n\n    .dataframe tbody tr th {\n        vertical-align: top;\n    }\n\n    .dataframe thead th {\n        text-align: right;\n    }\n</style>\n<table border=\"1\" class=\"dataframe\">\n  <thead>\n    <tr style=\"text-align: right;\">\n      <th></th>\n      <th>이름</th>\n      <th>이메일</th>\n      <th>비밀번호</th>\n      <th>핸드폰 번호</th>\n      <th>회원 유형</th>\n      <th>기업명</th>\n    </tr>\n  </thead>\n  <tbody>\n    <tr>\n      <th>0</th>\n      <td>아낌없이주는나무</td>\n      <td>user0@gmail.com</td>\n      <td>PassWord!!123</td>\n      <td>05212345678</td>\n      <td>C</td>\n      <td>아낌없이주는나무</td>\n    </tr>\n    <tr>\n      <th>1</th>\n      <td>(주)캠프</td>\n      <td>user1@gmail.com</td>\n      <td>PassWord!!123</td>\n      <td>05212345679</td>\n      <td>C</td>\n      <td>(주)캠프</td>\n    </tr>\n    <tr>\n      <th>2</th>\n      <td>사회적경제개발원</td>\n      <td>user2@gmail.com</td>\n      <td>PassWord!!123</td>\n      <td>05212345680</td>\n      <td>C</td>\n      <td>사회적경제개발원</td>\n    </tr>\n    <tr>\n      <th>3</th>\n      <td>(주)레스</td>\n      <td>user3@gmail.com</td>\n      <td>PassWord!!123</td>\n      <td>05212345681</td>\n      <td>C</td>\n      <td>(주)레스</td>\n    </tr>\n    <tr>\n      <th>4</th>\n      <td>IT사무기기</td>\n      <td>user4@gmail.com</td>\n      <td>PassWord!!123</td>\n      <td>05212345682</td>\n      <td>C</td>\n      <td>IT사무기기</td>\n    </tr>\n    <tr>\n      <th>...</th>\n      <td>...</td>\n      <td>...</td>\n      <td>...</td>\n      <td>...</td>\n      <td>...</td>\n      <td>...</td>\n    </tr>\n    <tr>\n      <th>132</th>\n      <td>꽃향글라스아트</td>\n      <td>user132@gmail.com</td>\n      <td>PassWord!!123</td>\n      <td>05212345810</td>\n      <td>C</td>\n      <td>꽃향글라스아트</td>\n    </tr>\n    <tr>\n      <th>133</th>\n      <td>에이원유화</td>\n      <td>user133@gmail.com</td>\n      <td>PassWord!!123</td>\n      <td>05212345811</td>\n      <td>C</td>\n      <td>에이원유화</td>\n    </tr>\n    <tr>\n      <th>134</th>\n      <td>영남블라인드</td>\n      <td>user134@gmail.com</td>\n      <td>PassWord!!123</td>\n      <td>05212345812</td>\n      <td>C</td>\n      <td>영남블라인드</td>\n    </tr>\n    <tr>\n      <th>135</th>\n      <td>부일페인트</td>\n      <td>user135@gmail.com</td>\n      <td>PassWord!!123</td>\n      <td>05212345813</td>\n      <td>C</td>\n      <td>부일페인트</td>\n    </tr>\n    <tr>\n      <th>136</th>\n      <td>유키즈울산-취소</td>\n      <td>user136@gmail.com</td>\n      <td>PassWord!!123</td>\n      <td>05212345814</td>\n      <td>C</td>\n      <td>유키즈울산-취소</td>\n    </tr>\n  </tbody>\n</table>\n<p>137 rows × 6 columns</p>\n</div>"
     },
     "execution_count": 50,
     "metadata": {},
     "output_type": "execute_result"
    }
   ],
   "source": [
    "import pandas as pd\n",
    "import numpy as np\n",
    "\n",
    "df = pd.DataFrame(columns=['이름', '이메일', '비밀번호', '핸드폰 번호', '회원 유형', '기업명'])\n",
    "df['이름'] = companies\n",
    "df['이메일'] = ['{}@gmail.com'.format('user' + str(a)) for a in range(0, len(companies))]\n",
    "df['비밀번호'] = ['PassWord!!123'] * len(companies)\n",
    "df['회원 유형'] = ['C'] * len(companies)\n",
    "df['기업명'] = companies\n",
    "df['핸드폰 번호'] = list(range(5212345678, 5212345678+len(companies)))\n",
    "df['핸드폰 번호'] = '0' + df['핸드폰 번호'].astype(str)\n",
    "\n",
    "df"
   ],
   "metadata": {
    "collapsed": false,
    "pycharm": {
     "name": "#%%\n"
    }
   }
  },
  {
   "cell_type": "code",
   "execution_count": 52,
   "outputs": [],
   "source": [
    "df.to_excel('result2.xlsx', index=False)"
   ],
   "metadata": {
    "collapsed": false,
    "pycharm": {
     "name": "#%%\n"
    }
   }
  }
 ],
 "metadata": {
  "kernelspec": {
   "display_name": "Python 3",
   "language": "python",
   "name": "python3"
  },
  "language_info": {
   "codemirror_mode": {
    "name": "ipython",
    "version": 2
   },
   "file_extension": ".py",
   "mimetype": "text/x-python",
   "name": "python",
   "nbconvert_exporter": "python",
   "pygments_lexer": "ipython2",
   "version": "2.7.6"
  }
 },
 "nbformat": 4,
 "nbformat_minor": 0
}