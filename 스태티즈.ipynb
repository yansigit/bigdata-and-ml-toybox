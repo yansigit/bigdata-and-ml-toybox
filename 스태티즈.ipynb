{
 "cells": [
  {
   "cell_type": "code",
   "execution_count": null,
   "metadata": {},
   "outputs": [],
   "source": [
    "!pip install selenium html5lib"
   ]
  },
  {
   "cell_type": "code",
   "execution_count": 1,
   "metadata": {},
   "outputs": [],
   "source": [
    "from selenium import webdriver\n",
    "import numpy as np\n",
    "import pandas as pd\n",
    "from IPython.core.display import display"
   ]
  },
  {
   "cell_type": "code",
   "execution_count": 10,
   "metadata": {
    "pycharm": {
     "name": "#%%\n"
    }
   },
   "outputs": [],
   "source": [
    "# macos 사용, chromedriver 경로 지정\n",
    "driver = webdriver.Chrome(\"/usr/local/bin/chromedriver\")\n",
    "url = \"http://www.statiz.co.kr/stat.php?opt=0&sopt=0&re={}&ys={}&ye={}&se=0&te={}&tm=&ty=0&qu=auto&po=0&as=&ae=&hi=&un=&pl=&da=1&o1=WAR_ALL_ADJ&o2=TPA&de=1&lr=0&tr=&cv=&ml=1&sn=30&si=&cn=\"\n",
    "# re 0 -> 타자, 1 -> 투수\n",
    "team = \"롯데\"\n",
    "url = url.format(0, 2020, 2020, team)\n",
    "driver.implicitly_wait(5)\n"
   ]
  },
  {
   "cell_type": "code",
   "execution_count": 13,
   "outputs": [],
   "source": [
    "driver.get(url)\n",
    "a_players = driver.find_elements_by_xpath('//*[@id=\"fixcol\"]/table/tbody/tr/td/a')\n",
    "\n",
    "urls_to_crawl = {}\n",
    "for a in a_players:\n",
    "    name = a.get_attribute(\"innerText\")\n",
    "    urls_to_crawl[name] = (a.get_attribute('href') + \"&opt=6\")"
   ],
   "metadata": {
    "collapsed": false,
    "pycharm": {
     "name": "#%%\n"
    }
   }
  },
  {
   "cell_type": "code",
   "execution_count": 14,
   "outputs": [],
   "source": [
    "# df_list = []\n",
    "for name, _url in urls_to_crawl.items():\n",
    "    driver.get(_url)\n",
    "    table = driver.find_element_by_css_selector(\"table.table.table-striped.table-responsive\")\n",
    "    table_html = table.get_attribute(\"outerHTML\")\n",
    "    # df_list.append(pd.read_html(table_html)[0])\n",
    "    df = pd.read_html(table_html)[0]\n",
    "    df.to_csv(\"csv/{}_타자_{}_playlog.csv\".format(team, name), encoding=\"utf-8-sig\")\n",
    "\n",
    "# for i, df in enumerate(df_list):\n",
    "#     df.to_csv(\"csv/lg_타자_{}_.csv\".format(i), encoding=\"utf-8-sig\")"
   ],
   "metadata": {
    "collapsed": false,
    "pycharm": {
     "name": "#%%\n"
    }
   }
  }
 ],
 "metadata": {
  "kernelspec": {
   "display_name": "Python 3",
   "language": "python",
   "name": "python3"
  },
  "language_info": {
   "codemirror_mode": {
    "name": "ipython",
    "version": 3
   },
   "file_extension": ".py",
   "mimetype": "text/x-python",
   "name": "python",
   "nbconvert_exporter": "python",
   "pygments_lexer": "ipython3",
   "version": "3.8.5"
  }
 },
 "nbformat": 4,
 "nbformat_minor": 4
}