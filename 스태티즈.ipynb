{
 "cells": [
  {
   "cell_type": "code",
   "execution_count": null,
   "metadata": {},
   "outputs": [],
   "source": [
    "!pip install selenium"
   ]
  },
  {
   "cell_type": "code",
   "execution_count": 1,
   "metadata": {},
   "outputs": [],
   "source": [
    "from selenium import webdriver"
   ]
  },
  {
   "cell_type": "code",
   "execution_count": 2,
   "metadata": {
    "pycharm": {
     "name": "#%%\n"
    }
   },
   "outputs": [],
   "source": [
    "# macos 사용, chromedriver 경로 지정\n",
    "driver = webdriver.Chrome(\"/usr/local/bin/chromedriver\")\n",
    "driver.get(\"http://www.statiz.co.kr/stat.php\")"
   ]
  },
  {
   "cell_type": "code",
   "execution_count": 18,
   "outputs": [
    {
     "name": "stdout",
     "output_type": "stream",
     "text": [
      "rgba(0, 0, 0, 1) K\n",
      "rgba(116, 0, 0, 1) 키\n",
      "rgba(0, 34, 102, 1) N\n",
      "rgba(201, 0, 0, 1) K\n",
      "rgba(201, 0, 0, 1) K\n",
      "rgba(116, 0, 0, 1) 키\n",
      "rgba(0, 0, 0, 1) L\n",
      "rgba(0, 0, 0, 1) K\n",
      "rgba(0, 34, 102, 1) N\n",
      "rgba(4, 22, 66, 1) 롯\n",
      "rgba(255, 18, 18, 1) S\n",
      "rgba(0, 0, 0, 1) K\n",
      "rgba(0, 0, 84, 1) 두\n",
      "rgba(0, 0, 0, 1) L\n",
      "rgba(0, 0, 84, 1) 두\n",
      "rgba(0, 34, 102, 1) N\n",
      "rgba(0, 0, 0, 1) L\n",
      "rgba(255, 18, 18, 1) S\n",
      "rgba(0, 34, 102, 1) N\n",
      "rgba(0, 34, 102, 1) N\n",
      "rgba(0, 0, 84, 1) 두\n",
      "rgba(0, 0, 0, 1) L\n",
      "rgba(0, 0, 84, 1) 두\n",
      "rgba(0, 0, 84, 1) 두\n",
      "rgba(0, 0, 84, 1) 두\n",
      "rgba(0, 0, 0, 1) K\n",
      "rgba(0, 30, 201, 1) 삼\n",
      "rgba(0, 34, 102, 1) N\n",
      "rgba(0, 30, 201, 1) 삼\n",
      "rgba(4, 22, 66, 1) 롯\n"
     ]
    }
   ],
   "source": [
    "colors = driver.find_elements_by_xpath('//*[@id=\"fixcol\"]/table/tbody/tr/td[3]/span/span[2]')\n",
    "for color in colors:\n",
    "    print(color.value_of_css_property('background-color'), color.get_attribute('innerText'))"
   ],
   "metadata": {
    "collapsed": false,
    "pycharm": {
     "name": "#%%\n"
    }
   }
  }
 ],
 "metadata": {
  "kernelspec": {
   "display_name": "Python 3",
   "language": "python",
   "name": "python3"
  },
  "language_info": {
   "codemirror_mode": {
    "name": "ipython",
    "version": 3
   },
   "file_extension": ".py",
   "mimetype": "text/x-python",
   "name": "python",
   "nbconvert_exporter": "python",
   "pygments_lexer": "ipython3",
   "version": "3.8.5"
  }
 },
 "nbformat": 4,
 "nbformat_minor": 4
}