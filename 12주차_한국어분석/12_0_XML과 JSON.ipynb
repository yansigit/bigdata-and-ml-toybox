{
 "cells": [
  {
   "cell_type": "markdown",
   "metadata": {},
   "source": [
    "# 1. XML의 이해\n",
    "    \n",
    "## XML의 개념\n",
    "- XML; eXtensible Markuo Language\n",
    "- 데이터의 구조와 의미를 설명하는 tag 사용를 사용하여 데이터의 속성과 값을 표현\n",
    "- HTML: XML에서 웹에 필요한 개념만 정의\n",
    "\n",
    "![xml](../images/그림15-1_p504.png)\n",
    "\n",
    "![xml](../images/그림15-1_p505.png)\n",
    "\n",
    "![xml](../images/그림15-1_p505_JSON.png)"
   ]
  },
  {
   "cell_type": "markdown",
   "metadata": {},
   "source": [
    "# 2. Beautifulsoup 모듈\n",
    "\n",
    "## Beautifulsoup 모듈 개요\n",
    "\n",
    "- https://www.crummy.com/software/BeautifulSoup\n",
    "\n",
    "![parser](../images/표15-1_p506.png)"
   ]
  },
  {
   "cell_type": "markdown",
   "metadata": {},
   "source": [
    "## Beautifulsoup 모듈 설치\n",
    "\n",
    "- pip install beautifulsoup4\n",
    "\n",
    "![bs설치](../images/그림15-1-2_p507.png)"
   ]
  },
  {
   "cell_type": "code",
   "execution_count": 2,
   "metadata": {},
   "outputs": [],
   "source": [
    "from bs4 import BeautifulSoup"
   ]
  },
  {
   "cell_type": "markdown",
   "metadata": {},
   "source": [
    "## Beautifulsoup 모듈 사용법\n",
    "\n",
    "![bs사용법](../images/표15-2_p507.png)"
   ]
  },
  {
   "cell_type": "markdown",
   "metadata": {},
   "source": [
    "- book.xml\n",
    "```\n",
    "<books>\n",
    "  <book>\n",
    "    <author>Carson</author>\n",
    "    <price format=\"dollar\">31.95</price>\n",
    "    <pubdate>05/01/2001</pubdate>\n",
    "  </book>\n",
    "<pubinfo>\n",
    "  <publisher>MSPress</publisher>\n",
    "  <state>WA</state>\n",
    "</pubinfo>\n",
    "<book>\n",
    "  <author>Sungchul</author>\n",
    "  <price format=\"dollar\">29.95</price>\n",
    "  <pubdate>05/01/2012</pubdate>\n",
    "</book>\n",
    "<pubinfo>\n",
    "  <publisher>Gachon</publisher>\n",
    "  <state>SeoungNam</state>\n",
    "</pubinfo>\n",
    "</books>\n",
    "```"
   ]
  },
  {
   "cell_type": "code",
   "execution_count": 3,
   "metadata": {},
   "outputs": [
    {
     "name": "stdout",
     "output_type": "stream",
     "text": [
      "<author>Carson</author>\n",
      "Carson\n",
      "<author>Sungchul</author>\n",
      "Sungchul\n"
     ]
    }
   ],
   "source": [
    "from bs4 import BeautifulSoup\n",
    "\n",
    "with open(\"books.xml\", \"r\", encoding=\"utf8\")as books_file:\n",
    "    books_xml = books_file.read()               # 파일을 문자열로 읽어 오기\n",
    "\n",
    "soup = BeautifulSoup(books_xml, \"lxml\")         # lxml 파서를 사용해 데이터 분석\n",
    "\n",
    "# author가 들어간 모든 요소의 값 추출\n",
    "for book_info in soup.find_all(\"author\"):\n",
    "    print(book_info)\n",
    "    print(book_info.get_text())                 # 해당 요소에서 값 추출"
   ]
  },
  {
   "cell_type": "code",
   "execution_count": 5,
   "metadata": {},
   "outputs": [
    {
     "data": {
      "text/plain": [
       "[<author>Carson</author>, <author>Sungchul</author>]"
      ]
     },
     "execution_count": 5,
     "metadata": {},
     "output_type": "execute_result"
    }
   ],
   "source": [
    "soup.find_all(\"author\")"
   ]
  },
  {
   "cell_type": "code",
   "execution_count": 8,
   "metadata": {},
   "outputs": [
    {
     "name": "stdout",
     "output_type": "stream",
     "text": [
      "Adjustable shoulder device for hard upper torso suit\n"
     ]
    }
   ],
   "source": [
    "import urllib.request\n",
    "from bs4 import BeautifulSoup\n",
    "\n",
    "with open(\"US08621662-20140107.XML\", \"r\", encoding=\"utf8\") as patent_xml:\n",
    "    xml = patent_xml.read()             # 파일을 문자열로 읽어 오기\n",
    "\n",
    "soup = BeautifulSoup(xml,\"lxml\")        # lxml 파서 호출\n",
    "\n",
    "# invention-title 태그 찾기\n",
    "invention_title_tag = soup.find(\"invention-title\")\n",
    "print(invention_title_tag.get_text())"
   ]
  },
  {
   "cell_type": "markdown",
   "metadata": {},
   "source": [
    "### 동일한 <document-id> 가 여러 상위 tag에 있을 경우\n",
    "\n",
    "![동일tag](../images/p509_xml.png)"
   ]
  },
  {
   "cell_type": "code",
   "execution_count": 18,
   "metadata": {},
   "outputs": [
    {
     "name": "stdout",
     "output_type": "stream",
     "text": [
      "US\n",
      "08621662\n",
      "B2\n",
      "20140107\n"
     ]
    }
   ],
   "source": [
    "publication_reference_tag = soup.find(\"publication-reference\")\n",
    "p_document_id_tag = publication_reference_tag.find(\"document-id\")\n",
    "p_country = p_document_id_tag.find(\"country\").get_text()\n",
    "p_doc_number = p_document_id_tag.find(\"doc-number\").get_text()\n",
    "p_kind = p_document_id_tag.find(\"kind\").get_text()\n",
    "p_date = p_document_id_tag.find(\"date\").get_text()\n",
    "print(\"%s\\n%s\\n%s\\n%s\" % (p_country, p_doc_number, p_kind, p_date))"
   ]
  },
  {
   "cell_type": "code",
   "execution_count": 19,
   "metadata": {},
   "outputs": [
    {
     "name": "stdout",
     "output_type": "stream",
     "text": [
      "US\n",
      "13175987\n",
      "20110705\n"
     ]
    }
   ],
   "source": [
    "application_reference_tag = soup.find(\"application-reference\")\n",
    "a_document_id_tag = application_reference_tag.find(\"document-id\")\n",
    "a_country = a_document_id_tag.find(\"country\").get_text()\n",
    "a_doc_number = a_document_id_tag.find(\"doc-number\").get_text()\n",
    "a_date = a_document_id_tag.find(\"date\").get_text()\n",
    "print(\"%s\\n%s\\n%s\" % (a_country, a_doc_number, a_date))"
   ]
  },
  {
   "cell_type": "markdown",
   "metadata": {},
   "source": [
    "# 3. JSON의 이해\n",
    "\n",
    "## JSON의 개념\n",
    "- JSON: JavaScript Object Notation을 이용한 데이터 표현언어\n",
    "- XML보다 데이터 용량이 적고 코드로의 전환이 쉽다\n",
    "- 파이썬의 딕셔너리형과 매우 비슷하여, 키-값의 쌍으로 구성되어 있다"
   ]
  },
  {
   "cell_type": "markdown",
   "metadata": {},
   "source": [
    "```\n",
    "{\n",
    "    \"dataTitle\" : \"JSON Tutorial!\",\n",
    "    \"swiftVersion\" : 2.1,\n",
    "    \"user\" : [\n",
    "        {\n",
    "            \"name\" : \"John\",\n",
    "            \"age\" : 25\n",
    "        },\n",
    "        {\n",
    "            \"name\" : \"Mark\",\n",
    "            \"age\" : 29\n",
    "        },\n",
    "        {\n",
    "            \"name\" : \"Sarah\",\n",
    "            \"age\" : 22\n",
    "        }\n",
    "    ]\n",
    "}\n",
    "```"
   ]
  },
  {
   "cell_type": "markdown",
   "metadata": {},
   "source": [
    "## JSON과 XML 비교\n",
    "\n",
    "![JSON&XML](../images/그림15-2_p512.png)"
   ]
  },
  {
   "cell_type": "markdown",
   "metadata": {},
   "source": [
    "# 4. JSON 데이터 분석\n",
    "\n",
    "- REST API(웹에서 데이터제공): JSON 포맷 사용\n",
    "\n",
    "## JSON 읽기\n",
    "\n",
    "- json_example.json 파일\n",
    "```\n",
    "{\"employees\":[\n",
    "    {\"firstName\":\"John\", \"lastName\":\"Doe\"},\n",
    "    {\"firstName\":\"Anna\", \"lastName\":\"Smith\"},\n",
    "    {\"firstName\":\"Peter\", \"lastName\":\"Jones\"}\n",
    "]}\n",
    "```"
   ]
  },
  {
   "cell_type": "code",
   "execution_count": 21,
   "metadata": {},
   "outputs": [
    {
     "name": "stdout",
     "output_type": "stream",
     "text": [
      "[{'firstName': 'John', 'lastName': 'Doe'}, {'firstName': 'Anna', 'lastName': 'Smith'}, {'firstName': 'Peter', 'lastName': 'Jones'}]\n"
     ]
    }
   ],
   "source": [
    "import json\n",
    "\n",
    "with open(\"json_example.json\", \"r\", encoding = \"utf8\") as f:\n",
    "    contents = f.read()                     # 파일 내용 읽어 오기\n",
    "    json_data = json.loads(contents)        # json 파싱\n",
    "    print(json_data[\"employees\"])           # 딕셔너리처럼 사용하기"
   ]
  },
  {
   "cell_type": "markdown",
   "metadata": {},
   "source": [
    "## JSON 쓰기"
   ]
  },
  {
   "cell_type": "code",
   "execution_count": 22,
   "metadata": {},
   "outputs": [],
   "source": [
    "import json\n",
    "\n",
    "dict_data ={'Name':'Zara','Age':7,'Class':'First'} # 딕셔너리 생성\n",
    "\n",
    "with open(\"data.json\", \"w\") as f:\n",
    "    json.dump(dict_data, f)"
   ]
  },
  {
   "cell_type": "markdown",
   "metadata": {},
   "source": [
    "# 5. Twitter에서 데이터 가져오기\n",
    "\n",
    "- twitter API 문서 사용법 https://dev.twitter.com/overview/api\n",
    "- twitter 계정 개설 https://www.twitter.com\n",
    "- 개발자 계정 https://dev.twitter.com\n",
    "- twitter 접속 모듈 설치\n",
    "\n",
    "![접속모듈](../images/그림15-4-1_p516.png)"
   ]
  },
  {
   "cell_type": "code",
   "execution_count": 26,
   "metadata": {},
   "outputs": [
    {
     "name": "stdout",
     "output_type": "stream",
     "text": [
      "대학생 오픈소스 경진대회 D2 CAMPUS FEST 2016의 참가신청이 시작되었습니다! 오픈소스 개발에 관심있는 많은 대학생 여러분의 참여를 기다립니다. #D2CAMUS_FEST #OpenSource  https://t.co/l4QGc9O9ng Tue Nov 29 06:03:33 +0000 2016\n",
      "오늘 오후 3시부터 제 5회 CAMPUS SEMINAR 참가접수가 시작됩니다:) \n",
      "#D2CAMPUS_SEMINAR\n",
      "* 참가신청 : https://t.co/6fOBNIZJXf\n",
      "* 상세프로그램 : https://t.co/o3zZWkAvI7 Wed Aug 17 01:40:25 +0000 2016\n",
      "&lt;XE 오픈세미나 : XE3 A부터 Z까지&gt; \n",
      "8월 6일부터 총 4회의 XE 오픈세미나를 진행합니다.  그 첫 번째 시리즈 'XE3 구조와 간단한 페이지 만들기' 의 참가 접수가 시작되었습니다.  https://t.co/F48QZZJvrm Wed Jul 20 08:49:34 +0000 2016\n",
      "대학생 기술 세미나 D2 CAMPUS SEMINAR 4회가 열립니다. #D2CAMPUS_SEMINAR\n",
      "* 상세보기 https://t.co/DPig6cbFzs\n",
      "* 참가신청 : 2월 17일 오후 3시 https://t.co/6fOBNIZJXf Mon Feb 15 07:59:53 +0000 2016\n",
      "NAVER 개발자 센터가 새롭게 시작합니다. 신기술 API(베타버전) 제공과 간편해진 API 개발, 개발포럼 개설을 통해 개발자를 지원하고 소통하는 NAVER 개발자 센터로 거듭납니다! https://t.co/Vic1Pm4MXL Wed Jan 27 09:51:50 +0000 2016\n",
      "2월 26일(금)에 진행될 제 4회 D2 CAMPUS SEMINAR에 서주실 깊이있는 경험과 지식을 가진 대학생 연사를 공개모집합니다. #D2CAMPUS_SEMINAR\n",
      "https://t.co/x8nYFrWd0p Thu Jan 07 05:04:27 +0000 2016\n",
      "D2 CAMPUS FEST 2015 프로젝트 제출일이 내일로 다가왔습니다! 참가신청해주신 분들은 보내드린 메일을 참고해주세요~ 안내메일을 받지 못하신 분들은 naver_d2@naver.com으로 연락부탁드립니다. #D2CAMPUS_FEST_2015 Tue Jan 05 02:49:03 +0000 2016\n",
      "작년 Hello world에 기고되어 많은 분들의 관심을 받았던 분산 저장 플랫폼 nbase-arc가 NAVER 오픈소스로 공개되었습니다! #NAVER_OPENSOURCE #nbase-arc https://t.co/GXHpRAxAHG Wed Dec 30 09:57:11 +0000 2015\n",
      "대학생 오픈소스SW 경진대회 D2 CAMPUS FEST 2015 오리엔테이션이 내일 그린팩토리에서 진행됩니다. 참가등록을 서둘러주세요! #D2CAMPUS_FEST\n",
      "https://t.co/HB7K2IfpHe Mon Nov 30 02:27:34 +0000 2015\n",
      "대학생 오픈소스 경진대회 D2 CAMPUS FEST 2015 참가등록중입니다. 대학생들의 오픈소스SW활동을 응원합니다! #D2CAMPUS_FEST2015 \n",
      "https://t.co/OhU4uGvKJS  (12월 3일, 자정까지) Thu Nov 26 02:41:49 +0000 2015\n",
      "오픈소스 경진대회 D2 CAMPUS FEST 2015의 참가등록이 시작되었습니다. #D2CAMPUS_FEST2015\n",
      "https://t.co/OhU4uGvKJS (12월 3일, 자정까지) Wed Nov 18 10:27:40 +0000 2015\n",
      "&lt;D2 Coding 글꼴 ver 1.1 배포&gt; \n",
      "첫 배포 이후 두달 만에 1만 2천건이 넘는 다운로드가 있었습니다. 앞으로도 지속적으로 개선해 나가겠습니다. #D2Coding\n",
      "https://t.co/hCEQWG01b1  #D2Coding Tue Nov 03 09:31:14 +0000 2015\n",
      "오픈소스 프로젝트 XpressEngine과 관련된 기술 지식을 공유하는 행사인 XECon 2015가 열립니다. PHP와 XE에 관심있는 분들의 참여를 기다립니다 #D2XE #XECon2015\n",
      "* 참가신청 : https://t.co/wFxDCEI3Mk Tue Nov 03 02:25:14 +0000 2015\n",
      "커넥션 풀 라이브러리를 적절하게 사용하려면 라이브러리의 내부 구조와 원리, 속성값의 의미를 이해해야 합니다. 대표적인 오픈소스 커넥션 풀 라이브인 Commons DBCP를 살펴보았습니다. https://t.co/YRjBP0y2mD Wed Oct 21 02:18:35 +0000 2015\n",
      "Java 8과 JVM에서 실행되는 언어에서 람다 표현식을 둘러싸고 어떤 시도와 논쟁이 있었는지, 람다가 Java 생태계에 어떤 영향을 미칠지 살펴보았습니다. http://t.co/GrfivQ3WP7 Thu Oct 01 08:59:08 +0000 2015\n",
      "NAVER가 오픈소스로 공개한 Python과 Django 기반의 모니터링 시스템 Hubblemon(https://t.co/u7kig8c5U1)의 시스템 구성과 활용 방법에 대해서 살펴봤습니다. http://t.co/KiSwZw0M04 Thu Oct 01 08:57:32 +0000 2015\n",
      "DEVIEW 2015 종료 이후 수많은 언론과 참가자분들의 참석후기가 계속하여 공유가 되고 있습니다. 그 중 특히 세션내용과 관련된 상세한 후기를 한데 모아보았습니다. #DEVIEW2015\n",
      "https://t.co/pDwuBW2CcM Fri Sep 18 05:13:51 +0000 2015\n",
      "개발자의 최적화된 코딩환경을 위해 D2에서 Coding 글꼴을 만들었습니다. 사용해보시고 후기도 많이 남겨주세요!! Happy coding :)  #D2CODING\n",
      "http://t.co/B2fW83f3aO Fri Sep 18 02:18:48 +0000 2015\n",
      "더 나은 DEVIEW를 위해 참가자분들을 대상으로 설문조사 메일을 보내드렸으니 많은 의견과 격려 부탁드리겠습니다. 정말 감사합니다!! * DEVIEW2015의 해시태그는 #DEVIEW2015 입니다. 참석자 여러분들의 많은 후기를 기다립니다. Tue Sep 15 09:34:10 +0000 2015\n",
      "성황리에 DEVIEW 2015가 종료되었습니다. 발표자료는 홈페이지에 모두 공개 되었으며, 발표영상은 홈페이지에 공개될 예정입니다. #DEVIEW2015 http://t.co/xg8aqrnZRp http://t.co/FL1QiqpIbV Tue Sep 15 09:33:44 +0000 2015\n"
     ]
    }
   ],
   "source": [
    "import requests\n",
    "from requests_oauthlib import OAuth1\n",
    "\n",
    "# 사용자의 OAuth 정보 입력\n",
    "consumer_key = 'MlQHYIaVcsmjr2h4defzRi88H'\n",
    "consumer_secret = '2u7cPGQwiNLMQHpZh0iw0qEj6aJB6INQw35FSlnwfyL0tIlmdU'\n",
    "access_token = '836816176235888640-6lFKqe8OkkUA8NxYz6cWRdv7cJTEALb'\n",
    "access_token_secret = 'XjrusK6qGpZtrIZkNgq4fjV8oZLO5DF7FZtrs1RxQnF4X'\n",
    "\n",
    "# 사용자의 OAuth 인증 정보 생성\n",
    "oauth = OAuth1(client_key=consumer_key, client_secret=consumer_secret, resource_owner_key=access_token, resource_owner_secret=access_token_secret)\n",
    "\n",
    "# Twitter REST API를 사용해 특정 계정 정보 요청,s creen_name은 트위터 계정명\n",
    "url = 'https://api.twitter.com/1.1/statuses/user_timeline.json?screen_name={0}'.format('naver_d2')\n",
    "\n",
    "# API URL과 계정 인증 정보를 HTTP로 전송\n",
    "r = requests.get(url=url,auth=oauth)\n",
    "\n",
    "# 결과를 json 형태로 다운로드함\n",
    "statuses = r.json()\n",
    "\n",
    "# 결과 출력\n",
    "for status in statuses:\n",
    "    print(status['text'], status['created_at'])"
   ]
  },
  {
   "cell_type": "markdown",
   "metadata": {},
   "source": [
    "### Tweet Data Dictionary\n",
    "\n",
    "![tweet_dictionary](../images/tweet_dictionary_p519.png)\n",
    "\n",
    "![매개변수dictionary](../images/그림15-5_p518.png)"
   ]
  },
  {
   "cell_type": "code",
   "execution_count": null,
   "metadata": {},
   "outputs": [],
   "source": []
  }
 ],
 "metadata": {
  "kernelspec": {
   "display_name": "Python 3",
   "language": "python",
   "name": "python3"
  },
  "language_info": {
   "codemirror_mode": {
    "name": "ipython",
    "version": 3
   },
   "file_extension": ".py",
   "mimetype": "text/x-python",
   "name": "python",
   "nbconvert_exporter": "python",
   "pygments_lexer": "ipython3",
   "version": "3.8.3"
  }
 },
 "nbformat": 4,
 "nbformat_minor": 2
}
