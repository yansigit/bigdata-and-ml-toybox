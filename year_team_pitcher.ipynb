{
 "cells": [
  {
   "cell_type": "code",
   "execution_count": 17,
   "metadata": {
    "ExecuteTime": {
     "end_time": "2021-03-15T12:34:57.845325Z",
     "start_time": "2021-03-15T12:34:57.832812Z"
    }
   },
   "outputs": [],
   "source": [
    "from selenium import webdriver\n",
    "import bs4\n",
    "import requests\n",
    "import time\n",
    "import os\n",
    "import csv\n",
    "import pandas as pd\n",
    "import numpy as np"
   ]
  },
  {
   "cell_type": "code",
   "execution_count": 18,
   "metadata": {
    "ExecuteTime": {
     "end_time": "2021-03-15T12:34:59.179528Z",
     "start_time": "2021-03-15T12:34:58.022694Z"
    }
   },
   "outputs": [],
   "source": [
    "team_list = [\"두산\", \"LG\", \"히어로즈\", \"SK\", \"KT\", \"한화\", \"삼성\", \"KIA\", \"롯데\", \"NC\"]\n",
    "year_list = list(range(2015, 2021))\n",
    "\n",
    "statiz = \"http://www.statiz.co.kr/\"\n",
    "chrome_dir = r'C:\\Users\\wkdgy\\Documents\\Jupyter\\chromedriver.exe'\n",
    "driver = webdriver.Chrome(chrome_dir)\n",
    "driver.implicitly_wait(5) #크롬 설정"
   ]
  },
  {
   "cell_type": "code",
   "execution_count": 19,
   "metadata": {
    "ExecuteTime": {
     "end_time": "2021-03-15T12:36:28.975553Z",
     "start_time": "2021-03-15T12:34:59.179528Z"
    },
    "scrolled": true
   },
   "outputs": [
    {
     "name": "stdout",
     "output_type": "stream",
     "text": [
      "2015년도 시작 !!!!!!!!!!\n",
      "두산  프린팅 중...\n",
      "LG  프린팅 중...\n",
      "히어로즈  프린팅 중...\n",
      "SK  프린팅 중...\n",
      "KT  프린팅 중...\n",
      "한화  프린팅 중...\n",
      "삼성  프린팅 중...\n",
      "KIA  프린팅 중...\n",
      "롯데  프린팅 중...\n",
      "NC  프린팅 중...\n",
      "2016년도 시작 !!!!!!!!!!\n",
      "두산  프린팅 중...\n",
      "LG  프린팅 중...\n",
      "히어로즈  프린팅 중...\n",
      "SK  프린팅 중...\n",
      "KT  프린팅 중...\n",
      "한화  프린팅 중...\n",
      "삼성  프린팅 중...\n",
      "KIA  프린팅 중...\n",
      "롯데  프린팅 중...\n",
      "NC  프린팅 중...\n",
      "2017년도 시작 !!!!!!!!!!\n",
      "두산  프린팅 중...\n",
      "LG  프린팅 중...\n",
      "히어로즈  프린팅 중...\n",
      "SK  프린팅 중...\n",
      "KT  프린팅 중...\n",
      "한화  프린팅 중...\n",
      "삼성  프린팅 중...\n",
      "KIA  프린팅 중...\n",
      "롯데  프린팅 중...\n",
      "NC  프린팅 중...\n",
      "2018년도 시작 !!!!!!!!!!\n",
      "두산  프린팅 중...\n",
      "LG  프린팅 중...\n",
      "히어로즈  프린팅 중...\n",
      "SK  프린팅 중...\n",
      "KT  프린팅 중...\n",
      "한화  프린팅 중...\n",
      "삼성  프린팅 중...\n",
      "KIA  프린팅 중...\n",
      "롯데  프린팅 중...\n",
      "NC  프린팅 중...\n",
      "2019년도 시작 !!!!!!!!!!\n",
      "두산  프린팅 중...\n",
      "LG  프린팅 중...\n",
      "히어로즈  프린팅 중...\n",
      "SK  프린팅 중...\n",
      "KT  프린팅 중...\n",
      "한화  프린팅 중...\n",
      "삼성  프린팅 중...\n",
      "KIA  프린팅 중...\n",
      "롯데  프린팅 중...\n",
      "NC  프린팅 중...\n",
      "2020년도 시작 !!!!!!!!!!\n",
      "두산  프린팅 중...\n",
      "LG  프린팅 중...\n",
      "히어로즈  프린팅 중...\n",
      "SK  프린팅 중...\n",
      "KT  프린팅 중...\n",
      "한화  프린팅 중...\n",
      "삼성  프린팅 중...\n",
      "KIA  프린팅 중...\n",
      "롯데  프린팅 중...\n",
      "NC  프린팅 중...\n"
     ]
    }
   ],
   "source": [
    "for year in year_list:\n",
    "    year = str(year)\n",
    "    print(year + \"년도 시작 !!!!!!!!!!\")\n",
    "    \n",
    "    for team in team_list:\n",
    "        print(team, \" 프린팅 중...\")\n",
    "        url = \"\"\"http://www.statiz.co.kr/stat.php?opt=0&sopt=0&re=1&ys=\"\"\"+year+\"\"\"&ye=\"\"\"+year+\"\"\"&se=0&te=\"\"\"+team+\"\"\"&tm=&ty=0&qu=auto&po=0&as=&ae=&hi=&un=&pl=&da=1&o1=WAR&de=1&lr=0&tr=&cv=&ml=1&sn=30&si=&cn=\"\"\"\n",
    "        driver.get(url)\n",
    "        \n",
    "        source = driver.page_source\n",
    "        tables = pd.read_html(source)\n",
    "        \n",
    "        tables[1].to_csv('./KBO_pitcher/'+year+\"/\"+team+\".csv\", encoding = 'cp949')"
   ]
  },
  {
   "cell_type": "code",
   "execution_count": 20,
   "metadata": {
    "ExecuteTime": {
     "end_time": "2021-03-15T12:36:34.885753Z",
     "start_time": "2021-03-15T12:36:28.975553Z"
    }
   },
   "outputs": [
    {
     "name": "stdout",
     "output_type": "stream",
     "text": [
      "2015  Refactoring start!!!!!!!\n",
      "2016  Refactoring start!!!!!!!\n",
      "2017  Refactoring start!!!!!!!\n",
      "2018  Refactoring start!!!!!!!\n",
      "2019  Refactoring start!!!!!!!\n",
      "2020  Refactoring start!!!!!!!\n"
     ]
    }
   ],
   "source": [
    "for year in year_list:\n",
    "    year = str(year)\n",
    "    print(year, \" Refactoring start!!!!!!!\")\n",
    "    Dir = './KBO_pitcher/' + year + \"/\"\n",
    "    file_list = os.listdir(Dir)\n",
    "    \n",
    "    for file in file_list:\n",
    "        result = []\n",
    "        \n",
    "        team = open(Dir + file, 'r')\n",
    "        lines = csv.reader(team)\n",
    "        \n",
    "        for line in lines:\n",
    "            if(line[2] == \"이름\"):\n",
    "                continue\n",
    "            else:\n",
    "                result.append(line[2:32])\n",
    "                df = pd.DataFrame(result, columns = [\"이름\", \"팀\", \"WAR\", \"출장\", \"완투\", \"완봉\", \"선발출장\", \"승\", \"패\", \"세이브\", \"홀드\", \"IP\", \"실점\", \"자책\", \"타자\", \"피안타\", \"피2루타\", \"피3루타\", \"피홈런\", \"BB\", \"고의4구\", \"사구\", \"삼진\", \"보크\", \"폭투\", \"평균자책점\", \"FIP\", \"WHIP\", \"ERA+\", \"FIP+\"])\n",
    "                df.to_csv(Dir+file, encoding = 'cp949')"
   ]
  },
  {
   "cell_type": "code",
   "execution_count": null,
   "metadata": {},
   "outputs": [],
   "source": []
  }
 ],
 "metadata": {
  "kernelspec": {
   "display_name": "Python 3",
   "language": "python",
   "name": "python3"
  },
  "language_info": {
   "codemirror_mode": {
    "name": "ipython",
    "version": 3
   },
   "file_extension": ".py",
   "mimetype": "text/x-python",
   "name": "python",
   "nbconvert_exporter": "python",
   "pygments_lexer": "ipython3",
   "version": "3.8.5"
  },
  "toc": {
   "base_numbering": 1,
   "nav_menu": {},
   "number_sections": true,
   "sideBar": true,
   "skip_h1_title": false,
   "title_cell": "Table of Contents",
   "title_sidebar": "Contents",
   "toc_cell": false,
   "toc_position": {},
   "toc_section_display": true,
   "toc_window_display": false
  }
 },
 "nbformat": 4,
 "nbformat_minor": 4
}
